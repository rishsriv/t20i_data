{
 "cells": [
  {
   "cell_type": "code",
   "execution_count": 1,
   "metadata": {
    "collapsed": false
   },
   "outputs": [],
   "source": [
    "from pattern import web\n",
    "import lxml\n",
    "import re\n",
    "import requests"
   ]
  },
  {
   "cell_type": "code",
   "execution_count": 2,
   "metadata": {
    "collapsed": false
   },
   "outputs": [],
   "source": [
    "def extract_id(i):\n",
    "    return i.split('/')[-1].split('.')[0]"
   ]
  },
  {
   "cell_type": "code",
   "execution_count": 3,
   "metadata": {
    "collapsed": true
   },
   "outputs": [],
   "source": [
    "proxies = {\n",
    "  'http': 'http://10.201.96.145:80',\n",
    "  'https': 'http://10.201.96.145:80',\n",
    "}"
   ]
  },
  {
   "cell_type": "code",
   "execution_count": 4,
   "metadata": {
    "collapsed": false
   },
   "outputs": [
    {
     "name": "stdout",
     "output_type": "stream",
     "text": [
      "2005\n",
      "2006\n",
      "2007\n",
      "2008\n",
      "2009\n",
      "2010\n",
      "2011\n",
      "2012\n",
      "2013\n",
      "2014\n",
      "2015\n",
      "2016\n"
     ]
    }
   ],
   "source": [
    "data = [['team1_name', 'team2_name', 'team1_id', 'team2_id', 'ground_name', 'ground_id', 'match_id', 'date']]\n",
    "for i in xrange(2005,2017):\n",
    "    r = requests.get('http://stats.espncricinfo.com/sl/engine/records/team/match_results.html?class=3;id=%d;type=year'%i,\n",
    "                    proxies = proxies)\n",
    "    dom = web.Element(r.text)\n",
    "    tab = dom.by_tag('table.engineTable')[0].by_tag('tr.data1')\n",
    "    \n",
    "    for t in tab:\n",
    "        t = t.by_tag('td')\n",
    "        if web.plaintext(t[2].content) != 'no result':\n",
    "            t1 = web.plaintext(t[0].content)\n",
    "            t2 = web.plaintext(t[1].content)\n",
    "            t1_id = extract_id(t[0].by_tag('a')[0].attrs['href'])\n",
    "            t2_id = extract_id(t[1].by_tag('a')[0].attrs['href'])\n",
    "            ground_name = web.plaintext(t[4].content)\n",
    "            ground_id = extract_id(t[4].by_tag('a')[0].attrs['href'])\n",
    "            match_id = extract_id(t[-1].by_tag('a')[0].attrs['href'])\n",
    "            date = web.plaintext(t[-2].content)\n",
    "            data.append([t1, t2, t1_id, t2_id, ground_name, ground_id, match_id, date])\n",
    "    print i"
   ]
  },
  {
   "cell_type": "code",
   "execution_count": 5,
   "metadata": {
    "collapsed": false
   },
   "outputs": [],
   "source": [
    "import pandas as pd"
   ]
  },
  {
   "cell_type": "code",
   "execution_count": 6,
   "metadata": {
    "collapsed": false
   },
   "outputs": [],
   "source": [
    "from dateutil import parser\n",
    "\n",
    "def f(i):\n",
    "    if '-' in i:\n",
    "        i = i.split(',')[0].split('-')[0] + i.split(',')[1]\n",
    "    return parser.parse(i)\n",
    "\n",
    "df = pd.DataFrame(data[1:], columns = data[0])\n",
    "df['date'] = df['date'].apply(f)"
   ]
  },
  {
   "cell_type": "code",
   "execution_count": 7,
   "metadata": {
    "collapsed": false
   },
   "outputs": [],
   "source": [
    "df.to_csv('all_t20i_05-16.csv')"
   ]
  },
  {
   "cell_type": "code",
   "execution_count": null,
   "metadata": {
    "collapsed": false
   },
   "outputs": [],
   "source": []
  }
 ],
 "metadata": {
  "kernelspec": {
   "display_name": "Python 2",
   "language": "python",
   "name": "python2"
  },
  "language_info": {
   "codemirror_mode": {
    "name": "ipython",
    "version": 2
   },
   "file_extension": ".py",
   "mimetype": "text/x-python",
   "name": "python",
   "nbconvert_exporter": "python",
   "pygments_lexer": "ipython2",
   "version": "2.7.10"
  }
 },
 "nbformat": 4,
 "nbformat_minor": 0
}
