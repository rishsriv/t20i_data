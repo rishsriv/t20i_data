{
 "cells": [
  {
   "cell_type": "markdown",
   "metadata": {},
   "source": [
    "### Analysis of players in the IPL Auction"
   ]
  },
  {
   "cell_type": "markdown",
   "metadata": {},
   "source": [
    "Importing necessary libraries"
   ]
  },
  {
   "cell_type": "code",
   "execution_count": 1,
   "metadata": {
    "collapsed": false,
    "scrolled": true
   },
   "outputs": [
    {
     "name": "stderr",
     "output_type": "stream",
     "text": [
      "/usr/local/lib/python2.7/dist-packages/matplotlib/__init__.py:872: UserWarning: axes.color_cycle is deprecated and replaced with axes.prop_cycle; please use the latter.\n",
      "  warnings.warn(self.msg_depr % (key, alt_key))\n"
     ]
    }
   ],
   "source": [
    "%matplotlib inline\n",
    "import pandas as pd\n",
    "import numpy as np\n",
    "import json\n",
    "import matplotlib.pyplot as plt\n",
    "import seaborn as sns"
   ]
  },
  {
   "cell_type": "markdown",
   "metadata": {},
   "source": [
    "Cleaning up data and loading it into a dataframe"
   ]
  },
  {
   "cell_type": "code",
   "execution_count": 26,
   "metadata": {
    "collapsed": false
   },
   "outputs": [],
   "source": [
    "with open('players.json', 'r') as f:\n",
    "    d = f.read()\n",
    "d = json.loads(d.replace('\\n', ''))['results']\n",
    "df = pd.DataFrame(d)\n",
    "del df['mtc']\n",
    "df = df.replace([None], [np.nan])\n",
    "df = df.replace([''], [np.nan])\n",
    "\n",
    "df.columns = ['country', 'old_team', 'base_price', 'id', 'name', 'retained', 'role', 'sold',\n",
    "             'sold_price', 'new_team', 'team_id']\n",
    "\n",
    "df['base_price'] = df['base_price'].astype(float)\n",
    "df['sold_price'] = df['sold_price'].astype(float)\n",
    "df['retained'] = df['retained'].astype(float)\n",
    "df['sold'] = df['sold'].astype(float)\n",
    "\n",
    "df['selected'] = ~((df.retained == 0) & ((df.sold == 0) | df.sold.isnull()))\n",
    "df['selected'] = df['selected'].astype(int)\n",
    "df['country'] = df['country'].apply(lambda x: x if x != 'BDESH' else 'Ban')\n",
    "df['role'] = df['role'].apply(lambda x: x.title())\n",
    "df['broad_role'] = df['role'].apply(lambda x: x if x != 'Wicketkeeper' else 'Batsman')"
   ]
  },
  {
   "cell_type": "code",
   "execution_count": 27,
   "metadata": {
    "collapsed": true
   },
   "outputs": [],
   "source": [
    "def get_team(row):\n",
    "    if row['selected'] == 0:\n",
    "        return np.nan\n",
    "    if pd.notnull(row['old_team']):\n",
    "        return row['old_team']\n",
    "    return row['new_team']"
   ]
  },
  {
   "cell_type": "code",
   "execution_count": 28,
   "metadata": {
    "collapsed": false
   },
   "outputs": [],
   "source": [
    "df['team'] = df.apply(get_team, axis=1)\n",
    "del df['old_team']\n",
    "del df['new_team']\n",
    "df.team = df.team.apply(lambda x: x if x != 'SH' else 'SRH')"
   ]
  },
  {
   "cell_type": "markdown",
   "metadata": {},
   "source": [
    "Converting price to Million Rupees"
   ]
  },
  {
   "cell_type": "code",
   "execution_count": 29,
   "metadata": {
    "collapsed": false
   },
   "outputs": [],
   "source": [
    "df['base_price']= 1.*df['base_price']/1000000\n",
    "df['sold_price']= 1.*df['sold_price']/1000000"
   ]
  },
  {
   "cell_type": "markdown",
   "metadata": {},
   "source": [
    "Creating separate dataframes for players in the auction pool that were selected and those that were dropped"
   ]
  },
  {
   "cell_type": "code",
   "execution_count": 30,
   "metadata": {
    "collapsed": false
   },
   "outputs": [],
   "source": [
    "sel = df[df.selected == 1]\n",
    "dropped = df[df.selected == 0]"
   ]
  },
  {
   "cell_type": "markdown",
   "metadata": {},
   "source": [
    "### Analysis"
   ]
  },
  {
   "cell_type": "markdown",
   "metadata": {},
   "source": [
    "#### Division by country"
   ]
  },
  {
   "cell_type": "code",
   "execution_count": 31,
   "metadata": {
    "collapsed": false
   },
   "outputs": [
    {
     "data": {
      "text/html": [
       "<div>\n",
       "<table border=\"1\" class=\"dataframe\">\n",
       "  <thead>\n",
       "    <tr style=\"text-align: right;\">\n",
       "      <th>team</th>\n",
       "      <th>DD</th>\n",
       "      <th>GL</th>\n",
       "      <th>KKR</th>\n",
       "      <th>KXIP</th>\n",
       "      <th>MI</th>\n",
       "      <th>RCB</th>\n",
       "      <th>RPS</th>\n",
       "      <th>SRH</th>\n",
       "    </tr>\n",
       "    <tr>\n",
       "      <th>country</th>\n",
       "      <th></th>\n",
       "      <th></th>\n",
       "      <th></th>\n",
       "      <th></th>\n",
       "      <th></th>\n",
       "      <th></th>\n",
       "      <th></th>\n",
       "      <th></th>\n",
       "    </tr>\n",
       "  </thead>\n",
       "  <tbody>\n",
       "    <tr>\n",
       "      <th>Aus</th>\n",
       "      <td>2</td>\n",
       "      <td>3</td>\n",
       "      <td>3</td>\n",
       "      <td>4</td>\n",
       "      <td>0</td>\n",
       "      <td>4</td>\n",
       "      <td>5</td>\n",
       "      <td>3</td>\n",
       "    </tr>\n",
       "    <tr>\n",
       "      <th>Ban</th>\n",
       "      <td>0</td>\n",
       "      <td>0</td>\n",
       "      <td>1</td>\n",
       "      <td>0</td>\n",
       "      <td>0</td>\n",
       "      <td>0</td>\n",
       "      <td>0</td>\n",
       "      <td>1</td>\n",
       "    </tr>\n",
       "    <tr>\n",
       "      <th>Eng</th>\n",
       "      <td>1</td>\n",
       "      <td>0</td>\n",
       "      <td>0</td>\n",
       "      <td>0</td>\n",
       "      <td>1</td>\n",
       "      <td>0</td>\n",
       "      <td>1</td>\n",
       "      <td>1</td>\n",
       "    </tr>\n",
       "    <tr>\n",
       "      <th>Ind</th>\n",
       "      <td>18</td>\n",
       "      <td>17</td>\n",
       "      <td>13</td>\n",
       "      <td>15</td>\n",
       "      <td>18</td>\n",
       "      <td>16</td>\n",
       "      <td>15</td>\n",
       "      <td>18</td>\n",
       "    </tr>\n",
       "    <tr>\n",
       "      <th>NZ</th>\n",
       "      <td>0</td>\n",
       "      <td>1</td>\n",
       "      <td>1</td>\n",
       "      <td>0</td>\n",
       "      <td>3</td>\n",
       "      <td>1</td>\n",
       "      <td>0</td>\n",
       "      <td>2</td>\n",
       "    </tr>\n",
       "    <tr>\n",
       "      <th>SA</th>\n",
       "      <td>5</td>\n",
       "      <td>1</td>\n",
       "      <td>1</td>\n",
       "      <td>3</td>\n",
       "      <td>1</td>\n",
       "      <td>2</td>\n",
       "      <td>1</td>\n",
       "      <td>0</td>\n",
       "    </tr>\n",
       "    <tr>\n",
       "      <th>SL</th>\n",
       "      <td>0</td>\n",
       "      <td>0</td>\n",
       "      <td>0</td>\n",
       "      <td>0</td>\n",
       "      <td>1</td>\n",
       "      <td>0</td>\n",
       "      <td>1</td>\n",
       "      <td>0</td>\n",
       "    </tr>\n",
       "    <tr>\n",
       "      <th>WI</th>\n",
       "      <td>1</td>\n",
       "      <td>2</td>\n",
       "      <td>3</td>\n",
       "      <td>0</td>\n",
       "      <td>2</td>\n",
       "      <td>2</td>\n",
       "      <td>0</td>\n",
       "      <td>0</td>\n",
       "    </tr>\n",
       "  </tbody>\n",
       "</table>\n",
       "</div>"
      ],
      "text/plain": [
       "team     DD  GL  KKR  KXIP  MI  RCB  RPS  SRH\n",
       "country                                      \n",
       "Aus       2   3    3     4   0    4    5    3\n",
       "Ban       0   0    1     0   0    0    0    1\n",
       "Eng       1   0    0     0   1    0    1    1\n",
       "Ind      18  17   13    15  18   16   15   18\n",
       "NZ        0   1    1     0   3    1    0    2\n",
       "SA        5   1    1     3   1    2    1    0\n",
       "SL        0   0    0     0   1    0    1    0\n",
       "WI        1   2    3     0   2    2    0    0"
      ]
     },
     "execution_count": 31,
     "metadata": {},
     "output_type": "execute_result"
    }
   ],
   "source": [
    "pd.pivot_table(sel, index=['country'], columns=['team'], values='name', aggfunc=len).fillna(0)"
   ]
  },
  {
   "cell_type": "markdown",
   "metadata": {},
   "source": [
    "#### Selected players by country"
   ]
  },
  {
   "cell_type": "code",
   "execution_count": 32,
   "metadata": {
    "collapsed": false
   },
   "outputs": [
    {
     "data": {
      "text/plain": [
       "Ind    130\n",
       "Aus     24\n",
       "SA      14\n",
       "WI      10\n",
       "NZ       8\n",
       "Eng      4\n",
       "SL       2\n",
       "Ban      2\n",
       "Name: country, dtype: int64"
      ]
     },
     "execution_count": 32,
     "metadata": {},
     "output_type": "execute_result"
    }
   ],
   "source": [
    "sel.country.value_counts()"
   ]
  },
  {
   "cell_type": "code",
   "execution_count": 33,
   "metadata": {
    "collapsed": false
   },
   "outputs": [
    {
     "data": {
      "text/plain": [
       "Ind    0.670103\n",
       "Aus    0.123711\n",
       "SA     0.072165\n",
       "WI     0.051546\n",
       "NZ     0.041237\n",
       "Eng    0.020619\n",
       "SL     0.010309\n",
       "Ban    0.010309\n",
       "Name: country, dtype: float64"
      ]
     },
     "execution_count": 33,
     "metadata": {},
     "output_type": "execute_result"
    }
   ],
   "source": [
    "sel.country.value_counts(normalize=True)"
   ]
  },
  {
   "cell_type": "markdown",
   "metadata": {},
   "source": [
    "#### Dropped players by country"
   ]
  },
  {
   "cell_type": "code",
   "execution_count": 34,
   "metadata": {
    "collapsed": false
   },
   "outputs": [
    {
     "data": {
      "text/plain": [
       "Ind    166\n",
       "Aus     24\n",
       "WI      19\n",
       "SA      17\n",
       "SL      15\n",
       "NZ       8\n",
       "Ban      4\n",
       "Eng      3\n",
       "Ire      1\n",
       "Name: country, dtype: int64"
      ]
     },
     "execution_count": 34,
     "metadata": {},
     "output_type": "execute_result"
    }
   ],
   "source": [
    "dropped.country.value_counts()"
   ]
  },
  {
   "cell_type": "code",
   "execution_count": 35,
   "metadata": {
    "collapsed": false
   },
   "outputs": [
    {
     "data": {
      "text/plain": [
       "Ind    0.645914\n",
       "Aus    0.093385\n",
       "WI     0.073930\n",
       "SA     0.066148\n",
       "SL     0.058366\n",
       "NZ     0.031128\n",
       "Ban    0.015564\n",
       "Eng    0.011673\n",
       "Ire    0.003891\n",
       "Name: country, dtype: float64"
      ]
     },
     "execution_count": 35,
     "metadata": {},
     "output_type": "execute_result"
    }
   ],
   "source": [
    "dropped.country.value_counts(normalize=True)"
   ]
  },
  {
   "cell_type": "markdown",
   "metadata": {},
   "source": [
    "#### Most expensive players"
   ]
  },
  {
   "cell_type": "code",
   "execution_count": 49,
   "metadata": {
    "collapsed": false
   },
   "outputs": [
    {
     "data": {
      "text/html": [
       "<div>\n",
       "<table border=\"1\" class=\"dataframe\">\n",
       "  <thead>\n",
       "    <tr style=\"text-align: right;\">\n",
       "      <th></th>\n",
       "      <th>name</th>\n",
       "      <th>team</th>\n",
       "      <th>role</th>\n",
       "      <th>sold_price</th>\n",
       "    </tr>\n",
       "  </thead>\n",
       "  <tbody>\n",
       "    <tr>\n",
       "      <th>156</th>\n",
       "      <td>Suresh Raina</td>\n",
       "      <td>GL</td>\n",
       "      <td>All-Rounder</td>\n",
       "      <td>125</td>\n",
       "    </tr>\n",
       "    <tr>\n",
       "      <th>33</th>\n",
       "      <td>Virat Kohli</td>\n",
       "      <td>RCB</td>\n",
       "      <td>Batsman</td>\n",
       "      <td>125</td>\n",
       "    </tr>\n",
       "    <tr>\n",
       "      <th>81</th>\n",
       "      <td>Shikhar Dhawan</td>\n",
       "      <td>SRH</td>\n",
       "      <td>Batsman</td>\n",
       "      <td>125</td>\n",
       "    </tr>\n",
       "    <tr>\n",
       "      <th>127</th>\n",
       "      <td>David Miller</td>\n",
       "      <td>KXIP</td>\n",
       "      <td>Batsman</td>\n",
       "      <td>125</td>\n",
       "    </tr>\n",
       "    <tr>\n",
       "      <th>79</th>\n",
       "      <td>MS Dhoni</td>\n",
       "      <td>RPS</td>\n",
       "      <td>Wicketkeeper</td>\n",
       "      <td>125</td>\n",
       "    </tr>\n",
       "    <tr>\n",
       "      <th>170</th>\n",
       "      <td>Rohit Sharma</td>\n",
       "      <td>MI</td>\n",
       "      <td>Batsman</td>\n",
       "      <td>125</td>\n",
       "    </tr>\n",
       "    <tr>\n",
       "      <th>83</th>\n",
       "      <td>Gautam Gambhir</td>\n",
       "      <td>KKR</td>\n",
       "      <td>Batsman</td>\n",
       "      <td>125</td>\n",
       "    </tr>\n",
       "    <tr>\n",
       "      <th>15</th>\n",
       "      <td>Sunil Narine</td>\n",
       "      <td>KKR</td>\n",
       "      <td>Bowler</td>\n",
       "      <td>95</td>\n",
       "    </tr>\n",
       "    <tr>\n",
       "      <th>318</th>\n",
       "      <td>Chris Gayle</td>\n",
       "      <td>RCB</td>\n",
       "      <td>Batsman</td>\n",
       "      <td>95</td>\n",
       "    </tr>\n",
       "    <tr>\n",
       "      <th>419</th>\n",
       "      <td>Shane Watson</td>\n",
       "      <td>RCB</td>\n",
       "      <td>All-Rounder</td>\n",
       "      <td>95</td>\n",
       "    </tr>\n",
       "    <tr>\n",
       "      <th>301</th>\n",
       "      <td>Lasith Malinga</td>\n",
       "      <td>MI</td>\n",
       "      <td>Bowler</td>\n",
       "      <td>95</td>\n",
       "    </tr>\n",
       "    <tr>\n",
       "      <th>70</th>\n",
       "      <td>Ajinkya Rahane</td>\n",
       "      <td>RPS</td>\n",
       "      <td>Batsman</td>\n",
       "      <td>95</td>\n",
       "    </tr>\n",
       "    <tr>\n",
       "      <th>25</th>\n",
       "      <td>Ravindra Jadeja</td>\n",
       "      <td>GL</td>\n",
       "      <td>All-Rounder</td>\n",
       "      <td>95</td>\n",
       "    </tr>\n",
       "    <tr>\n",
       "      <th>331</th>\n",
       "      <td>Pawan Negi</td>\n",
       "      <td>DD</td>\n",
       "      <td>All-Rounder</td>\n",
       "      <td>85</td>\n",
       "    </tr>\n",
       "    <tr>\n",
       "      <th>16</th>\n",
       "      <td>Kieron Pollard</td>\n",
       "      <td>MI</td>\n",
       "      <td>All-Rounder</td>\n",
       "      <td>75</td>\n",
       "    </tr>\n",
       "    <tr>\n",
       "      <th>203</th>\n",
       "      <td>Brendon McCullum</td>\n",
       "      <td>GL</td>\n",
       "      <td>Batsman</td>\n",
       "      <td>75</td>\n",
       "    </tr>\n",
       "    <tr>\n",
       "      <th>38</th>\n",
       "      <td>R Ashwin</td>\n",
       "      <td>RPS</td>\n",
       "      <td>Bowler</td>\n",
       "      <td>75</td>\n",
       "    </tr>\n",
       "    <tr>\n",
       "      <th>271</th>\n",
       "      <td>AB de Villiers</td>\n",
       "      <td>RCB</td>\n",
       "      <td>Batsman</td>\n",
       "      <td>75</td>\n",
       "    </tr>\n",
       "    <tr>\n",
       "      <th>193</th>\n",
       "      <td>Yuvraj Singh</td>\n",
       "      <td>SRH</td>\n",
       "      <td>All-Rounder</td>\n",
       "      <td>70</td>\n",
       "    </tr>\n",
       "    <tr>\n",
       "      <th>254</th>\n",
       "      <td>Chris Morris</td>\n",
       "      <td>DD</td>\n",
       "      <td>All-Rounder</td>\n",
       "      <td>70</td>\n",
       "    </tr>\n",
       "    <tr>\n",
       "      <th>340</th>\n",
       "      <td>Mohit Sharma</td>\n",
       "      <td>KXIP</td>\n",
       "      <td>Bowler</td>\n",
       "      <td>65</td>\n",
       "    </tr>\n",
       "    <tr>\n",
       "      <th>371</th>\n",
       "      <td>Mitchell Johnson</td>\n",
       "      <td>KXIP</td>\n",
       "      <td>Bowler</td>\n",
       "      <td>65</td>\n",
       "    </tr>\n",
       "    <tr>\n",
       "      <th>137</th>\n",
       "      <td>Glenn Maxwell</td>\n",
       "      <td>KXIP</td>\n",
       "      <td>All-Rounder</td>\n",
       "      <td>60</td>\n",
       "    </tr>\n",
       "    <tr>\n",
       "      <th>52</th>\n",
       "      <td>James Faulkner</td>\n",
       "      <td>GL</td>\n",
       "      <td>All-Rounder</td>\n",
       "      <td>55</td>\n",
       "    </tr>\n",
       "    <tr>\n",
       "      <th>92</th>\n",
       "      <td>Harbhajan Singh</td>\n",
       "      <td>MI</td>\n",
       "      <td>Bowler</td>\n",
       "      <td>55</td>\n",
       "    </tr>\n",
       "    <tr>\n",
       "      <th>118</th>\n",
       "      <td>Ashish Nehra</td>\n",
       "      <td>SRH</td>\n",
       "      <td>Bowler</td>\n",
       "      <td>55</td>\n",
       "    </tr>\n",
       "    <tr>\n",
       "      <th>5</th>\n",
       "      <td>David Warner</td>\n",
       "      <td>SRH</td>\n",
       "      <td>Batsman</td>\n",
       "      <td>55</td>\n",
       "    </tr>\n",
       "    <tr>\n",
       "      <th>43</th>\n",
       "      <td>Steven Smith</td>\n",
       "      <td>RPS</td>\n",
       "      <td>Batsman</td>\n",
       "      <td>55</td>\n",
       "    </tr>\n",
       "    <tr>\n",
       "      <th>110</th>\n",
       "      <td>Mitchell Starc</td>\n",
       "      <td>RCB</td>\n",
       "      <td>Bowler</td>\n",
       "      <td>50</td>\n",
       "    </tr>\n",
       "    <tr>\n",
       "      <th>188</th>\n",
       "      <td>Robin Uthappa</td>\n",
       "      <td>KKR</td>\n",
       "      <td>Wicketkeeper</td>\n",
       "      <td>50</td>\n",
       "    </tr>\n",
       "  </tbody>\n",
       "</table>\n",
       "</div>"
      ],
      "text/plain": [
       "                 name  team          role  sold_price\n",
       "156      Suresh Raina    GL   All-Rounder         125\n",
       "33        Virat Kohli   RCB       Batsman         125\n",
       "81     Shikhar Dhawan   SRH       Batsman         125\n",
       "127      David Miller  KXIP       Batsman         125\n",
       "79           MS Dhoni   RPS  Wicketkeeper         125\n",
       "170      Rohit Sharma    MI       Batsman         125\n",
       "83     Gautam Gambhir   KKR       Batsman         125\n",
       "15       Sunil Narine   KKR        Bowler          95\n",
       "318       Chris Gayle   RCB       Batsman          95\n",
       "419      Shane Watson   RCB   All-Rounder          95\n",
       "301    Lasith Malinga    MI        Bowler          95\n",
       "70     Ajinkya Rahane   RPS       Batsman          95\n",
       "25    Ravindra Jadeja    GL   All-Rounder          95\n",
       "331        Pawan Negi    DD   All-Rounder          85\n",
       "16     Kieron Pollard    MI   All-Rounder          75\n",
       "203  Brendon McCullum    GL       Batsman          75\n",
       "38           R Ashwin   RPS        Bowler          75\n",
       "271    AB de Villiers   RCB       Batsman          75\n",
       "193      Yuvraj Singh   SRH   All-Rounder          70\n",
       "254      Chris Morris    DD   All-Rounder          70\n",
       "340      Mohit Sharma  KXIP        Bowler          65\n",
       "371  Mitchell Johnson  KXIP        Bowler          65\n",
       "137     Glenn Maxwell  KXIP   All-Rounder          60\n",
       "52     James Faulkner    GL   All-Rounder          55\n",
       "92    Harbhajan Singh    MI        Bowler          55\n",
       "118      Ashish Nehra   SRH        Bowler          55\n",
       "5        David Warner   SRH       Batsman          55\n",
       "43       Steven Smith   RPS       Batsman          55\n",
       "110    Mitchell Starc   RCB        Bowler          50\n",
       "188     Robin Uthappa   KKR  Wicketkeeper          50"
      ]
     },
     "execution_count": 49,
     "metadata": {},
     "output_type": "execute_result"
    }
   ],
   "source": [
    "sel.sort_values('sold_price', ascending=False).head(30)[['name', 'team', 'role', 'sold_price']]"
   ]
  },
  {
   "cell_type": "code",
   "execution_count": 51,
   "metadata": {
    "collapsed": false
   },
   "outputs": [
    {
     "data": {
      "text/plain": [
       "Batsman        13\n",
       "All-Rounder     9\n",
       "Bowler          8\n",
       "Name: broad_role, dtype: int64"
      ]
     },
     "execution_count": 51,
     "metadata": {},
     "output_type": "execute_result"
    }
   ],
   "source": [
    "sel.sort_values('sold_price', ascending=False).head(30).broad_role.value_counts()"
   ]
  },
  {
   "cell_type": "code",
   "execution_count": 54,
   "metadata": {
    "collapsed": false
   },
   "outputs": [
    {
     "data": {
      "text/plain": [
       "Ind    15\n",
       "Aus     7\n",
       "WI      3\n",
       "SA      3\n",
       "SL      1\n",
       "NZ      1\n",
       "Name: country, dtype: int64"
      ]
     },
     "execution_count": 54,
     "metadata": {},
     "output_type": "execute_result"
    }
   ],
   "source": [
    "sel.sort_values('sold_price', ascending=False).head(30).country.value_counts()"
   ]
  },
  {
   "cell_type": "code",
   "execution_count": 56,
   "metadata": {
    "collapsed": false
   },
   "outputs": [
    {
     "data": {
      "text/plain": [
       "RCB     5\n",
       "MI      4\n",
       "GL      4\n",
       "SRH     4\n",
       "RPS     4\n",
       "KXIP    4\n",
       "KKR     3\n",
       "DD      2\n",
       "Name: team, dtype: int64"
      ]
     },
     "execution_count": 56,
     "metadata": {},
     "output_type": "execute_result"
    }
   ],
   "source": [
    "sel.sort_values('sold_price', ascending=False).head(30).team.value_counts()"
   ]
  },
  {
   "cell_type": "markdown",
   "metadata": {},
   "source": [
    "#### Price by type"
   ]
  },
  {
   "cell_type": "markdown",
   "metadata": {},
   "source": [
    "Overall trends"
   ]
  },
  {
   "cell_type": "code",
   "execution_count": 41,
   "metadata": {
    "collapsed": false
   },
   "outputs": [
    {
     "data": {
      "text/html": [
       "<div>\n",
       "<table border=\"1\" class=\"dataframe\">\n",
       "  <thead>\n",
       "    <tr style=\"text-align: right;\">\n",
       "      <th></th>\n",
       "      <th>base_price</th>\n",
       "      <th>retained</th>\n",
       "      <th>sold_price</th>\n",
       "      <th>broad_role</th>\n",
       "    </tr>\n",
       "    <tr>\n",
       "      <th>broad_role</th>\n",
       "      <th></th>\n",
       "      <th></th>\n",
       "      <th></th>\n",
       "      <th></th>\n",
       "    </tr>\n",
       "  </thead>\n",
       "  <tbody>\n",
       "    <tr>\n",
       "      <th>All-Rounder</th>\n",
       "      <td>4.200000</td>\n",
       "      <td>0.354839</td>\n",
       "      <td>20.475806</td>\n",
       "      <td>62</td>\n",
       "    </tr>\n",
       "    <tr>\n",
       "      <th>Batsman</th>\n",
       "      <td>5.400000</td>\n",
       "      <td>0.677419</td>\n",
       "      <td>31.507258</td>\n",
       "      <td>62</td>\n",
       "    </tr>\n",
       "    <tr>\n",
       "      <th>Bowler</th>\n",
       "      <td>5.705882</td>\n",
       "      <td>0.514286</td>\n",
       "      <td>20.775000</td>\n",
       "      <td>70</td>\n",
       "    </tr>\n",
       "  </tbody>\n",
       "</table>\n",
       "</div>"
      ],
      "text/plain": [
       "             base_price  retained  sold_price  broad_role\n",
       "broad_role                                               \n",
       "All-Rounder    4.200000  0.354839   20.475806          62\n",
       "Batsman        5.400000  0.677419   31.507258          62\n",
       "Bowler         5.705882  0.514286   20.775000          70"
      ]
     },
     "execution_count": 41,
     "metadata": {},
     "output_type": "execute_result"
    }
   ],
   "source": [
    "sel.groupby('broad_role')[['base_price', 'retained', 'sold_price']].agg('mean').join(sel.broad_role.value_counts())"
   ]
  },
  {
   "cell_type": "markdown",
   "metadata": {},
   "source": [
    "Players worth more than 3M"
   ]
  },
  {
   "cell_type": "code",
   "execution_count": 42,
   "metadata": {
    "collapsed": false
   },
   "outputs": [
    {
     "data": {
      "text/html": [
       "<div>\n",
       "<table border=\"1\" class=\"dataframe\">\n",
       "  <thead>\n",
       "    <tr style=\"text-align: right;\">\n",
       "      <th></th>\n",
       "      <th>base_price</th>\n",
       "      <th>retained</th>\n",
       "      <th>sold_price</th>\n",
       "      <th>broad_role</th>\n",
       "    </tr>\n",
       "    <tr>\n",
       "      <th>broad_role</th>\n",
       "      <th></th>\n",
       "      <th></th>\n",
       "      <th></th>\n",
       "      <th></th>\n",
       "    </tr>\n",
       "  </thead>\n",
       "  <tbody>\n",
       "    <tr>\n",
       "      <th>All-Rounder</th>\n",
       "      <td>6.636364</td>\n",
       "      <td>0.435897</td>\n",
       "      <td>31.858974</td>\n",
       "      <td>39</td>\n",
       "    </tr>\n",
       "    <tr>\n",
       "      <th>Batsman</th>\n",
       "      <td>7.769231</td>\n",
       "      <td>0.745098</td>\n",
       "      <td>38.077451</td>\n",
       "      <td>51</td>\n",
       "    </tr>\n",
       "    <tr>\n",
       "      <th>Bowler</th>\n",
       "      <td>7.583333</td>\n",
       "      <td>0.555556</td>\n",
       "      <td>26.523148</td>\n",
       "      <td>54</td>\n",
       "    </tr>\n",
       "  </tbody>\n",
       "</table>\n",
       "</div>"
      ],
      "text/plain": [
       "             base_price  retained  sold_price  broad_role\n",
       "broad_role                                               \n",
       "All-Rounder    6.636364  0.435897   31.858974          39\n",
       "Batsman        7.769231  0.745098   38.077451          51\n",
       "Bowler         7.583333  0.555556   26.523148          54"
      ]
     },
     "execution_count": 42,
     "metadata": {},
     "output_type": "execute_result"
    }
   ],
   "source": [
    "sel[sel.sold_price >= 3].groupby('broad_role')[['base_price', 'retained', 'sold_price']].agg('mean').join(sel[sel.sold_price >= 3].broad_role.value_counts())"
   ]
  },
  {
   "cell_type": "code",
   "execution_count": 44,
   "metadata": {
    "collapsed": false
   },
   "outputs": [
    {
     "data": {
      "text/html": [
       "<div>\n",
       "<table border=\"1\" class=\"dataframe\">\n",
       "  <thead>\n",
       "    <tr style=\"text-align: right;\">\n",
       "      <th></th>\n",
       "      <th>base_price</th>\n",
       "      <th>retained</th>\n",
       "      <th>sold_price</th>\n",
       "      <th>broad_role</th>\n",
       "    </tr>\n",
       "    <tr>\n",
       "      <th>broad_role</th>\n",
       "      <th></th>\n",
       "      <th></th>\n",
       "      <th></th>\n",
       "      <th></th>\n",
       "    </tr>\n",
       "  </thead>\n",
       "  <tbody>\n",
       "    <tr>\n",
       "      <th>All-Rounder</th>\n",
       "      <td>1.222222</td>\n",
       "      <td>0.217391</td>\n",
       "      <td>1.173913</td>\n",
       "      <td>23</td>\n",
       "    </tr>\n",
       "    <tr>\n",
       "      <th>Batsman</th>\n",
       "      <td>1.000000</td>\n",
       "      <td>0.363636</td>\n",
       "      <td>1.045455</td>\n",
       "      <td>11</td>\n",
       "    </tr>\n",
       "    <tr>\n",
       "      <th>Bowler</th>\n",
       "      <td>1.200000</td>\n",
       "      <td>0.375000</td>\n",
       "      <td>1.375000</td>\n",
       "      <td>16</td>\n",
       "    </tr>\n",
       "  </tbody>\n",
       "</table>\n",
       "</div>"
      ],
      "text/plain": [
       "             base_price  retained  sold_price  broad_role\n",
       "broad_role                                               \n",
       "All-Rounder    1.222222  0.217391    1.173913          23\n",
       "Batsman        1.000000  0.363636    1.045455          11\n",
       "Bowler         1.200000  0.375000    1.375000          16"
      ]
     },
     "execution_count": 44,
     "metadata": {},
     "output_type": "execute_result"
    }
   ],
   "source": [
    "sel[sel.sold_price < 3].groupby('broad_role')[['base_price', 'retained', 'sold_price']].agg('mean').join(sel[sel.sold_price < 3].broad_role.value_counts())"
   ]
  },
  {
   "cell_type": "markdown",
   "metadata": {},
   "source": [
    "#### Measuring price rise from base price"
   ]
  },
  {
   "cell_type": "code",
   "execution_count": 47,
   "metadata": {
    "collapsed": false
   },
   "outputs": [
    {
     "data": {
      "text/plain": [
       "9.9514893617021265"
      ]
     },
     "execution_count": 47,
     "metadata": {},
     "output_type": "execute_result"
    }
   ],
   "source": [
    "sel.sold_price.sum()/sel.base_price.sum()"
   ]
  },
  {
   "cell_type": "markdown",
   "metadata": {},
   "source": [
    "#### Stats by team"
   ]
  },
  {
   "cell_type": "markdown",
   "metadata": {},
   "source": [
    "Overall"
   ]
  },
  {
   "cell_type": "code",
   "execution_count": 59,
   "metadata": {
    "collapsed": false
   },
   "outputs": [
    {
     "data": {
      "text/html": [
       "<div>\n",
       "<table border=\"1\" class=\"dataframe\">\n",
       "  <thead>\n",
       "    <tr style=\"text-align: right;\">\n",
       "      <th></th>\n",
       "      <th>retained</th>\n",
       "      <th>sold_price</th>\n",
       "    </tr>\n",
       "    <tr>\n",
       "      <th>team</th>\n",
       "      <th></th>\n",
       "      <th></th>\n",
       "    </tr>\n",
       "  </thead>\n",
       "  <tbody>\n",
       "    <tr>\n",
       "      <th>DD</th>\n",
       "      <td>0.481481</td>\n",
       "      <td>22.166667</td>\n",
       "    </tr>\n",
       "    <tr>\n",
       "      <th>GL</th>\n",
       "      <td>0.208333</td>\n",
       "      <td>23.187500</td>\n",
       "    </tr>\n",
       "    <tr>\n",
       "      <th>KKR</th>\n",
       "      <td>0.681818</td>\n",
       "      <td>24.431818</td>\n",
       "    </tr>\n",
       "    <tr>\n",
       "      <th>KXIP</th>\n",
       "      <td>0.636364</td>\n",
       "      <td>24.340909</td>\n",
       "    </tr>\n",
       "    <tr>\n",
       "      <th>MI</th>\n",
       "      <td>0.730769</td>\n",
       "      <td>24.882692</td>\n",
       "    </tr>\n",
       "    <tr>\n",
       "      <th>RCB</th>\n",
       "      <td>0.560000</td>\n",
       "      <td>24.730000</td>\n",
       "    </tr>\n",
       "    <tr>\n",
       "      <th>RPS</th>\n",
       "      <td>0.217391</td>\n",
       "      <td>26.434783</td>\n",
       "    </tr>\n",
       "    <tr>\n",
       "      <th>SRH</th>\n",
       "      <td>0.600000</td>\n",
       "      <td>23.040000</td>\n",
       "    </tr>\n",
       "  </tbody>\n",
       "</table>\n",
       "</div>"
      ],
      "text/plain": [
       "      retained  sold_price\n",
       "team                      \n",
       "DD    0.481481   22.166667\n",
       "GL    0.208333   23.187500\n",
       "KKR   0.681818   24.431818\n",
       "KXIP  0.636364   24.340909\n",
       "MI    0.730769   24.882692\n",
       "RCB   0.560000   24.730000\n",
       "RPS   0.217391   26.434783\n",
       "SRH   0.600000   23.040000"
      ]
     },
     "execution_count": 59,
     "metadata": {},
     "output_type": "execute_result"
    }
   ],
   "source": [
    "sel.groupby('team').agg('mean')[['retained', 'sold_price']]"
   ]
  },
  {
   "cell_type": "markdown",
   "metadata": {},
   "source": [
    "Only considering players more than 3M"
   ]
  },
  {
   "cell_type": "code",
   "execution_count": 60,
   "metadata": {
    "collapsed": false
   },
   "outputs": [
    {
     "data": {
      "text/html": [
       "<div>\n",
       "<table border=\"1\" class=\"dataframe\">\n",
       "  <thead>\n",
       "    <tr style=\"text-align: right;\">\n",
       "      <th></th>\n",
       "      <th>retained</th>\n",
       "      <th>sold_price</th>\n",
       "    </tr>\n",
       "    <tr>\n",
       "      <th>team</th>\n",
       "      <th></th>\n",
       "      <th></th>\n",
       "    </tr>\n",
       "  </thead>\n",
       "  <tbody>\n",
       "    <tr>\n",
       "      <th>DD</th>\n",
       "      <td>0.600000</td>\n",
       "      <td>29.575000</td>\n",
       "    </tr>\n",
       "    <tr>\n",
       "      <th>GL</th>\n",
       "      <td>0.357143</td>\n",
       "      <td>38.750000</td>\n",
       "    </tr>\n",
       "    <tr>\n",
       "      <th>KKR</th>\n",
       "      <td>0.736842</td>\n",
       "      <td>28.052632</td>\n",
       "    </tr>\n",
       "    <tr>\n",
       "      <th>KXIP</th>\n",
       "      <td>0.705882</td>\n",
       "      <td>31.088235</td>\n",
       "    </tr>\n",
       "    <tr>\n",
       "      <th>MI</th>\n",
       "      <td>0.722222</td>\n",
       "      <td>35.497222</td>\n",
       "    </tr>\n",
       "    <tr>\n",
       "      <th>RCB</th>\n",
       "      <td>0.684211</td>\n",
       "      <td>32.171053</td>\n",
       "    </tr>\n",
       "    <tr>\n",
       "      <th>RPS</th>\n",
       "      <td>0.294118</td>\n",
       "      <td>35.352941</td>\n",
       "    </tr>\n",
       "    <tr>\n",
       "      <th>SRH</th>\n",
       "      <td>0.550000</td>\n",
       "      <td>28.500000</td>\n",
       "    </tr>\n",
       "  </tbody>\n",
       "</table>\n",
       "</div>"
      ],
      "text/plain": [
       "      retained  sold_price\n",
       "team                      \n",
       "DD    0.600000   29.575000\n",
       "GL    0.357143   38.750000\n",
       "KKR   0.736842   28.052632\n",
       "KXIP  0.705882   31.088235\n",
       "MI    0.722222   35.497222\n",
       "RCB   0.684211   32.171053\n",
       "RPS   0.294118   35.352941\n",
       "SRH   0.550000   28.500000"
      ]
     },
     "execution_count": 60,
     "metadata": {},
     "output_type": "execute_result"
    }
   ],
   "source": [
    "sel[sel.sold_price >= 3].groupby('team').agg('mean')[['retained', 'sold_price']]"
   ]
  },
  {
   "cell_type": "markdown",
   "metadata": {},
   "source": [
    "#### Proportion of team that is worth >=3M INR"
   ]
  },
  {
   "cell_type": "code",
   "execution_count": 81,
   "metadata": {
    "collapsed": false
   },
   "outputs": [
    {
     "data": {
      "text/plain": [
       "team\n",
       "DD      0.740741\n",
       "GL      0.583333\n",
       "KKR     0.863636\n",
       "KXIP    0.772727\n",
       "MI      0.692308\n",
       "RCB     0.760000\n",
       "RPS     0.739130\n",
       "SRH     0.800000\n",
       "Name: sold_price, dtype: float64"
      ]
     },
     "execution_count": 81,
     "metadata": {},
     "output_type": "execute_result"
    }
   ],
   "source": [
    "sel.groupby('team')['sold_price'].agg(lambda x: np.mean(np.array(x) >= 3))"
   ]
  },
  {
   "cell_type": "code",
   "execution_count": 83,
   "metadata": {
    "collapsed": false
   },
   "outputs": [
    {
     "data": {
      "text/plain": [
       "<matplotlib.axes._subplots.AxesSubplot at 0x7fef8e745250>"
      ]
     },
     "execution_count": 83,
     "metadata": {},
     "output_type": "execute_result"
    },
    {
     "data": {
      "image/png": "[encoded data removed]",
      "text/plain": [
       "<matplotlib.figure.Figure at 0x7fef8e5e4c50>"
      ]
     },
     "metadata": {},
     "output_type": "display_data"
    }
   ],
   "source": [
    "sel[sel.team == 'GL'].sold_price.hist()"
   ]
  },
  {
   "cell_type": "code",
   "execution_count": 84,
   "metadata": {
    "collapsed": false
   },
   "outputs": [
    {
     "data": {
      "text/plain": [
       "<matplotlib.axes._subplots.AxesSubplot at 0x7fef8e57dd50>"
      ]
     },
     "execution_count": 84,
     "metadata": {},
     "output_type": "execute_result"
    },
    {
     "data": {
      "image/png": "[encoded data removed]",
      "text/plain": [
       "<matplotlib.figure.Figure at 0x7fef8e3c1890>"
      ]
     },
     "metadata": {},
     "output_type": "display_data"
    }
   ],
   "source": [
    "sel[sel.team == 'KKR'].sold_price.hist()"
   ]
  },
  {
   "cell_type": "markdown",
   "metadata": {},
   "source": [
    "#### Players by nationality"
   ]
  },
  {
   "cell_type": "markdown",
   "metadata": {},
   "source": [
    "All players"
   ]
  },
  {
   "cell_type": "code",
   "execution_count": 89,
   "metadata": {
    "collapsed": false
   },
   "outputs": [
    {
     "data": {
      "text/html": [
       "<div>\n",
       "<table border=\"1\" class=\"dataframe\">\n",
       "  <thead>\n",
       "    <tr style=\"text-align: right;\">\n",
       "      <th></th>\n",
       "      <th>sold_price</th>\n",
       "      <th>retained</th>\n",
       "      <th>country</th>\n",
       "    </tr>\n",
       "    <tr>\n",
       "      <th>country</th>\n",
       "      <th></th>\n",
       "      <th></th>\n",
       "      <th></th>\n",
       "    </tr>\n",
       "  </thead>\n",
       "  <tbody>\n",
       "    <tr>\n",
       "      <th>SL</th>\n",
       "      <td>52.500000</td>\n",
       "      <td>0.500000</td>\n",
       "      <td>2</td>\n",
       "    </tr>\n",
       "    <tr>\n",
       "      <th>WI</th>\n",
       "      <td>39.645000</td>\n",
       "      <td>0.600000</td>\n",
       "      <td>10</td>\n",
       "    </tr>\n",
       "    <tr>\n",
       "      <th>SA</th>\n",
       "      <td>34.714286</td>\n",
       "      <td>0.714286</td>\n",
       "      <td>14</td>\n",
       "    </tr>\n",
       "    <tr>\n",
       "      <th>Aus</th>\n",
       "      <td>27.208333</td>\n",
       "      <td>0.458333</td>\n",
       "      <td>24</td>\n",
       "    </tr>\n",
       "    <tr>\n",
       "      <th>NZ</th>\n",
       "      <td>25.250000</td>\n",
       "      <td>0.750000</td>\n",
       "      <td>8</td>\n",
       "    </tr>\n",
       "    <tr>\n",
       "      <th>Eng</th>\n",
       "      <td>22.750000</td>\n",
       "      <td>0.250000</td>\n",
       "      <td>4</td>\n",
       "    </tr>\n",
       "    <tr>\n",
       "      <th>Ban</th>\n",
       "      <td>21.000000</td>\n",
       "      <td>0.500000</td>\n",
       "      <td>2</td>\n",
       "    </tr>\n",
       "    <tr>\n",
       "      <th>Ind</th>\n",
       "      <td>20.782692</td>\n",
       "      <td>0.492308</td>\n",
       "      <td>130</td>\n",
       "    </tr>\n",
       "  </tbody>\n",
       "</table>\n",
       "</div>"
      ],
      "text/plain": [
       "         sold_price  retained  country\n",
       "country                               \n",
       "SL        52.500000  0.500000        2\n",
       "WI        39.645000  0.600000       10\n",
       "SA        34.714286  0.714286       14\n",
       "Aus       27.208333  0.458333       24\n",
       "NZ        25.250000  0.750000        8\n",
       "Eng       22.750000  0.250000        4\n",
       "Ban       21.000000  0.500000        2\n",
       "Ind       20.782692  0.492308      130"
      ]
     },
     "execution_count": 89,
     "metadata": {},
     "output_type": "execute_result"
    }
   ],
   "source": [
    "sel.groupby('country')[['sold_price', 'retained']].agg('mean').sort_values('sold_price', ascending=False).join(sel.country.value_counts())"
   ]
  },
  {
   "cell_type": "markdown",
   "metadata": {},
   "source": [
    "Players that cost 3M or more"
   ]
  },
  {
   "cell_type": "code",
   "execution_count": 91,
   "metadata": {
    "collapsed": false
   },
   "outputs": [
    {
     "data": {
      "text/html": [
       "<div>\n",
       "<table border=\"1\" class=\"dataframe\">\n",
       "  <thead>\n",
       "    <tr style=\"text-align: right;\">\n",
       "      <th></th>\n",
       "      <th>sold_price</th>\n",
       "      <th>retained</th>\n",
       "      <th>country</th>\n",
       "    </tr>\n",
       "    <tr>\n",
       "      <th>country</th>\n",
       "      <th></th>\n",
       "      <th></th>\n",
       "      <th></th>\n",
       "    </tr>\n",
       "  </thead>\n",
       "  <tbody>\n",
       "    <tr>\n",
       "      <th>SL</th>\n",
       "      <td>52.500000</td>\n",
       "      <td>0.500000</td>\n",
       "      <td>2</td>\n",
       "    </tr>\n",
       "    <tr>\n",
       "      <th>SA</th>\n",
       "      <td>43.363636</td>\n",
       "      <td>0.727273</td>\n",
       "      <td>11</td>\n",
       "    </tr>\n",
       "    <tr>\n",
       "      <th>WI</th>\n",
       "      <td>39.645000</td>\n",
       "      <td>0.600000</td>\n",
       "      <td>10</td>\n",
       "    </tr>\n",
       "    <tr>\n",
       "      <th>Ind</th>\n",
       "      <td>34.595395</td>\n",
       "      <td>0.618421</td>\n",
       "      <td>76</td>\n",
       "    </tr>\n",
       "    <tr>\n",
       "      <th>NZ</th>\n",
       "      <td>32.666667</td>\n",
       "      <td>0.833333</td>\n",
       "      <td>6</td>\n",
       "    </tr>\n",
       "    <tr>\n",
       "      <th>Aus</th>\n",
       "      <td>30.666667</td>\n",
       "      <td>0.523810</td>\n",
       "      <td>21</td>\n",
       "    </tr>\n",
       "    <tr>\n",
       "      <th>Eng</th>\n",
       "      <td>29.333333</td>\n",
       "      <td>0.333333</td>\n",
       "      <td>3</td>\n",
       "    </tr>\n",
       "    <tr>\n",
       "      <th>Ban</th>\n",
       "      <td>21.000000</td>\n",
       "      <td>0.500000</td>\n",
       "      <td>2</td>\n",
       "    </tr>\n",
       "  </tbody>\n",
       "</table>\n",
       "</div>"
      ],
      "text/plain": [
       "         sold_price  retained  country\n",
       "country                               \n",
       "SL        52.500000  0.500000        2\n",
       "SA        43.363636  0.727273       11\n",
       "WI        39.645000  0.600000       10\n",
       "Ind       34.595395  0.618421       76\n",
       "NZ        32.666667  0.833333        6\n",
       "Aus       30.666667  0.523810       21\n",
       "Eng       29.333333  0.333333        3\n",
       "Ban       21.000000  0.500000        2"
      ]
     },
     "execution_count": 91,
     "metadata": {},
     "output_type": "execute_result"
    }
   ],
   "source": [
    "sel[sel.sold_price > 3].groupby('country')[['sold_price', 'retained']].agg('mean').sort_values('sold_price', ascending=False).join(sel[sel.sold_price > 3].country.value_counts())"
   ]
  },
  {
   "cell_type": "markdown",
   "metadata": {},
   "source": [
    "## Expected Teams"
   ]
  },
  {
   "cell_type": "markdown",
   "metadata": {},
   "source": [
    "### MI\n",
    "\n",
    "1. Rohit Sharma\n",
    "2. Lendl Simmons\\*/Jos Buttler\\*\n",
    "3. Ambati Rayudu\n",
    "4. Corey Anderson\\*\n",
    "5. Kieron Pollard\\*\n",
    "6. Parthiv Patel/Unmukt Chand\n",
    "7. Hardik Pandya\n",
    "8. Harbhajan Singh\n",
    "9. Nathu Singh/Vinay Kumar\n",
    "10. Jasprit Bumrah\n",
    "11. Lasith Malinga\\*/Tim Southee\\*"
   ]
  },
  {
   "cell_type": "markdown",
   "metadata": {},
   "source": [
    "### RPS\n",
    "\n",
    "1. Faf du Plessis\\*\n",
    "2. Ajinkya Rahane\n",
    "3. Steven Smith\\*\n",
    "4. Kevin Pieterson\\*\n",
    "5. MS Dhoni\n",
    "6. Thisara Perera\\*/Mitchell Marsh\\*\n",
    "7. Irfan Pathan\n",
    "8. R Ashwin\n",
    "9. Ashok Dinda/M Ashwin\n",
    "10. Ishwar Pandey/RP Singh\n",
    "11. Ishant Sharma"
   ]
  },
  {
   "cell_type": "markdown",
   "metadata": {},
   "source": [
    "### KKR\n",
    "\n",
    "1. Gautam Gambhir\n",
    "2. Robin Uthappa\n",
    "3. Manish Pandey/Colin Munro\\*/Chris Lynn\\*\n",
    "4. Yusuf Pathan\n",
    "5. Shakib Al Hasan\\*\n",
    "6. Suryakumar Yadav\n",
    "7. Andre Russell\\*/Jason Holder\\*\n",
    "8. Morne Morkel\\*/Jaydev Unadkat\n",
    "9. Umesh Yadav\n",
    "10. Piyush Chawla\n",
    "11. Sunil Narine\\*"
   ]
  },
  {
   "cell_type": "markdown",
   "metadata": {
    "collapsed": true
   },
   "source": [
    "### KXIP\n",
    "\n",
    "1. Manan Vohra\n",
    "2. Murali Vijay\n",
    "3. Shaun Marsh\\*\n",
    "4. David Miller\\*\n",
    "5. Glenn Maxwell\\*\n",
    "6. Wriddhiman Saha\n",
    "7. Axar Patel\n",
    "8. Rishi Dhawan\n",
    "9. Mitchell Johnson\\*\n",
    "10. Sandeep Sharma\n",
    "11. KC Cariappa/Anureet Singh"
   ]
  },
  {
   "cell_type": "markdown",
   "metadata": {},
   "source": [
    "### GL\n",
    "\n",
    "1. Brendon McCullum\\*\n",
    "2. Dwayne Smith\\*/Aaron Finch\\*\n",
    "3. Dinesh Karthik\n",
    "4. Suresh Raina\n",
    "5. Dwayne Bravo\\*/Eklavya Dwivedi\n",
    "6. James Faulkner\\*\n",
    "7. Ravindra Jadeja\n",
    "8. Jaydev Shah\n",
    "9. Pravin Tambe\n",
    "10. Praveen Kumar\n",
    "11. Dhawal Kulkarni/Dale Steyn\\*"
   ]
  },
  {
   "cell_type": "markdown",
   "metadata": {},
   "source": [
    "### RCB\n",
    "\n",
    "1. Chris Gayle\\*\n",
    "2. Shane Watson\\*\n",
    "3. Virat Kohli\n",
    "4. AB de Villiers\\*\n",
    "5. Sarfaraz Khan\n",
    "6. Stuart Binny\n",
    "7. Kedar Jadhav\n",
    "8. Mitchell Starc\\*\n",
    "9. Yuzvendra Chahal\n",
    "10. S Aravind\n",
    "11. Varun Aaron"
   ]
  },
  {
   "cell_type": "markdown",
   "metadata": {},
   "source": [
    "### SRH\n",
    "\n",
    "1. Shikhar Dhawan\n",
    "2. David Warner\\*\n",
    "3. Kane Williamson\\*\n",
    "4. Yuvraj Singh\n",
    "5. Eoin Morgan\\*\n",
    "6. Aditya Tare/Naman Ojha\n",
    "7. Parvez Rasool/Deepak Hooda\n",
    "8. Bhuvi Kumar\n",
    "9. Barinder Sran/Karn Sharma\n",
    "10. Trent Boult\\*\n",
    "11. Ashish Nehra"
   ]
  },
  {
   "cell_type": "markdown",
   "metadata": {},
   "source": [
    "### DD\n",
    "\n",
    "1. Shreyas Iyer\n",
    "2. Quinton de Kock\\*\n",
    "3. Rishabh Pant/Sanju Samson\n",
    "4. Saurabh Tiwari\n",
    "5. JP Duminy\\*\n",
    "6. Mayank Agrawal\n",
    "7. Pawan Negi\n",
    "8. Nathan Coulter-Nile\\*/Albie Morkel\\*/Chris Morris\\*\n",
    "9. Imran Tahir\\*\n",
    "10. Mohammed Shami\n",
    "11. Amit Mishra"
   ]
  },
  {
   "cell_type": "markdown",
   "metadata": {},
   "source": [
    "## Expected Performance"
   ]
  },
  {
   "cell_type": "markdown",
   "metadata": {},
   "source": [
    "MI have the most balanced lineup. An opening pair of Rohit Sharma and Jos Buttler/Lendl Simmons will be a nightmare for any bowling attack. They also boast some huge hitters and all-rounders in Corey Anderson and Kieron Pollard. At the same time, they have a kickass bowling attack, with the precision of Malinga and Bumrah and the guile of Harbhajan Singh."
   ]
  },
  {
   "cell_type": "markdown",
   "metadata": {},
   "source": [
    "RPS have a very strong batting lineup (Steven Smith, KP, Dhoni), some big hitters (Perera/Marsh), and the best spinner in the league (Ashwin). The quality of there pacers is not the best though."
   ]
  },
  {
   "cell_type": "code",
   "execution_count": null,
   "metadata": {
    "collapsed": true
   },
   "outputs": [],
   "source": []
  }
 ],
 "metadata": {
  "kernelspec": {
   "display_name": "Python 2",
   "language": "python",
   "name": "python2"
  },
  "language_info": {
   "codemirror_mode": {
    "name": "ipython",
    "version": 2
   },
   "file_extension": ".py",
   "mimetype": "text/x-python",
   "name": "python",
   "nbconvert_exporter": "python",
   "pygments_lexer": "ipython2",
   "version": "2.7.10"
  }
 },
 "nbformat": 4,
 "nbformat_minor": 0
}
