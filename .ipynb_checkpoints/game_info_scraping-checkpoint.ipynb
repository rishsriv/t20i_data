{
 "cells": [
  {
   "cell_type": "markdown",
   "metadata": {},
   "source": [
    "# Ball-by-ball scraper for Cricinfo"
   ]
  },
  {
   "cell_type": "markdown",
   "metadata": {},
   "source": [
    "### Overall Data"
   ]
  },
  {
   "cell_type": "markdown",
   "metadata": {},
   "source": [
    "This scraper requests json files from cricinfo, which are then saved to a data folder"
   ]
  },
  {
   "cell_type": "code",
   "execution_count": 1,
   "metadata": {
    "collapsed": false
   },
   "outputs": [],
   "source": [
    "import requests\n",
    "import pandas as pd\n",
    "import json"
   ]
  },
  {
   "cell_type": "code",
   "execution_count": 2,
   "metadata": {
    "collapsed": false
   },
   "outputs": [],
   "source": [
    "df = pd.read_csv('all_t20i_05-16.csv')"
   ]
  },
  {
   "cell_type": "code",
   "execution_count": 3,
   "metadata": {
    "collapsed": false
   },
   "outputs": [
    {
     "name": "stderr",
     "output_type": "stream",
     "text": [
      "/usr/local/lib/python2.7/dist-packages/ipykernel/__main__.py:1: FutureWarning: sort(columns=....) is deprecated, use sort_values(by=.....)\n",
      "  if __name__ == '__main__':\n"
     ]
    }
   ],
   "source": [
    "matches = df.sort('date', ascending = False).match_id.values\n",
    "matches = [str(i) for i in matches]"
   ]
  },
  {
   "cell_type": "code",
   "execution_count": 7,
   "metadata": {
    "collapsed": true
   },
   "outputs": [],
   "source": [
    "proxies = {\n",
    "  'http': 'http://10.201.96.145:80',\n",
    "  'https': 'http://10.201.96.145:80',\n",
    "}"
   ]
  },
  {
   "cell_type": "code",
   "execution_count": 5,
   "metadata": {
    "collapsed": false
   },
   "outputs": [
    {
     "data": {
      "text/plain": [
       "['966757', '966755', '966753']"
      ]
     },
     "execution_count": 5,
     "metadata": {},
     "output_type": "execute_result"
    }
   ],
   "source": [
    "matches[:3]"
   ]
  },
  {
   "cell_type": "code",
   "execution_count": 11,
   "metadata": {
    "collapsed": false,
    "scrolled": true
   },
   "outputs": [
    {
     "name": "stdout",
     "output_type": "stream",
     "text": [
      "Success 966757 0 3\n",
      "Success 966755 1 3\n",
      "Success 966753 2 3\n"
     ]
    }
   ],
   "source": [
    "n = len(matches[:3])\n",
    "for idx, game_id in enumerate(matches[:3]):\n",
    "    try:\n",
    "        r1 = requests.get('http://www.espncricinfo.com/ci/engine/match/gfx/%s.json?inning=1;template=wagon'%(game_id),\n",
    "                         proxies=proxies)\n",
    "        r2 = requests.get('http://www.espncricinfo.com/ci/engine/match/gfx/%s.json?inning=2;template=wagon'%(game_id),\n",
    "                         proxies=proxies)\n",
    "        #print r1.status_code\n",
    "        #print r2.status_code\n",
    "        with open('data/'+game_id+'-wagon-inning-1.json', 'w') as outfile:\n",
    "            json.dump(r1.json(), outfile)\n",
    "\n",
    "        with open('data/'+str(game_id)+'-wagon-inning-2.json', 'w') as outfile:\n",
    "            json.dump(r2.json(), outfile)\n",
    "\n",
    "        r = requests.get('http://www.espncricinfo.com/ci/engine/match/gfx/%s.json?template=pie_wickets'%(game_id),\n",
    "                        proxies=proxies)\n",
    "        with open('data/'+game_id+'-pie-wickets.json', 'w') as outfile:\n",
    "            json.dump(r.json(), outfile)\n",
    "        print 'Success', game_id, idx, n\n",
    "    except:\n",
    "        print 'Failed', game_id, idx, n"
   ]
  },
  {
   "cell_type": "code",
   "execution_count": null,
   "metadata": {
    "collapsed": true
   },
   "outputs": [],
   "source": []
  }
 ],
 "metadata": {
  "kernelspec": {
   "display_name": "Python 2",
   "language": "python",
   "name": "python2"
  },
  "language_info": {
   "codemirror_mode": {
    "name": "ipython",
    "version": 2
   },
   "file_extension": ".py",
   "mimetype": "text/x-python",
   "name": "python",
   "nbconvert_exporter": "python",
   "pygments_lexer": "ipython2",
   "version": "2.7.10"
  }
 },
 "nbformat": 4,
 "nbformat_minor": 0
}
