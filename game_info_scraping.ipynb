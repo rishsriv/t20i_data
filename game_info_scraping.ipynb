{
 "cells": [
  {
   "cell_type": "markdown",
   "metadata": {},
   "source": [
    "# Ball-by-ball scraper for Cricinfo"
   ]
  },
  {
   "cell_type": "markdown",
   "metadata": {},
   "source": [
    "### Overall Data"
   ]
  },
  {
   "cell_type": "markdown",
   "metadata": {},
   "source": [
    "This scraper requests json files from cricinfo, which are then saved to a data folder"
   ]
  },
  {
   "cell_type": "code",
   "execution_count": 6,
   "metadata": {
    "collapsed": false
   },
   "outputs": [],
   "source": [
    "import requests\n",
    "import pandas as pd\n",
    "import json\n",
    "from pattern import web"
   ]
  },
  {
   "cell_type": "code",
   "execution_count": 2,
   "metadata": {
    "collapsed": false
   },
   "outputs": [],
   "source": [
    "df = pd.read_csv('all_t20i_05-16.csv')"
   ]
  },
  {
   "cell_type": "code",
   "execution_count": 3,
   "metadata": {
    "collapsed": false
   },
   "outputs": [
    {
     "name": "stderr",
     "output_type": "stream",
     "text": [
      "/usr/local/lib/python2.7/dist-packages/ipykernel/__main__.py:1: FutureWarning: sort(columns=....) is deprecated, use sort_values(by=.....)\n",
      "  if __name__ == '__main__':\n"
     ]
    }
   ],
   "source": [
    "matches = df.sort('date', ascending = False).match_id.values\n",
    "matches = [str(i) for i in matches]"
   ]
  },
  {
   "cell_type": "code",
   "execution_count": 4,
   "metadata": {
    "collapsed": true
   },
   "outputs": [],
   "source": [
    "proxies = {\n",
    "  #'http': 'http://10.201.96.145:80',\n",
    "  #'https': 'http://10.201.96.145:80',\n",
    "}"
   ]
  },
  {
   "cell_type": "code",
   "execution_count": 27,
   "metadata": {
    "collapsed": false
   },
   "outputs": [
    {
     "data": {
      "text/plain": [
       "['966759', '966757', '966755']"
      ]
     },
     "execution_count": 27,
     "metadata": {},
     "output_type": "execute_result"
    }
   ],
   "source": [
    "matches[:3]"
   ]
  },
  {
   "cell_type": "code",
   "execution_count": 21,
   "metadata": {
    "collapsed": false,
    "scrolled": true
   },
   "outputs": [
    {
     "name": "stdout",
     "output_type": "stream",
     "text": [
      "Success 531982 300 505\n",
      "Success 525817 301 505\n",
      "Success 525816 302 505\n",
      "Success 523736 303 505\n",
      "Success 523735 304 505\n",
      "Success 474476 305 505\n",
      "Success 516205 306 505\n",
      "Success 516204 307 505\n",
      "Success 474466 308 505\n",
      "Success 489220 309 505\n",
      "Success 489212 310 505\n",
      "Success 446961 311 505\n",
      "Success 446960 312 505\n",
      "Success 463149 313 505\n",
      "Success 473920 314 505\n",
      "Success 473919 315 505\n",
      "Success 473918 316 505\n",
      "Success 446956 317 505\n",
      "Success 461565 318 505\n",
      "Success 478279 319 505\n",
      "Success 463142 320 505\n",
      "Success 463141 321 505\n",
      "Success 426418 322 505\n",
      "Success 426417 323 505\n",
      "Success 426393 324 505\n",
      "Success 426392 325 505\n",
      "Success 452154 326 505\n",
      "Success 452153 327 505\n",
      "Success 456992 328 505\n",
      "Success 456991 329 505\n",
      "Success 447539 330 505\n",
      "Success 439146 331 505\n",
      "Success 412703 332 505\n",
      "Success 412702 333 505\n",
      "Success 412701 334 505\n",
      "Success 412700 335 505\n",
      "Success 412699 336 505\n",
      "Success 412698 337 505\n",
      "Success 412697 338 505\n",
      "Success 412696 339 505\n",
      "Success 412695 340 505\n",
      "Success 412694 341 505\n",
      "Success 412693 342 505\n",
      "Success 412691 343 505\n",
      "Success 412692 344 505\n",
      "Success 412690 345 505\n",
      "Success 412689 346 505\n",
      "Success 412687 347 505\n",
      "Success 412688 348 505\n",
      "Success 412684 349 505\n",
      "Success 412685 350 505\n",
      "Success 412686 351 505\n",
      "Success 412683 352 505\n",
      "Success 412682 353 505\n",
      "Success 412680 354 505\n",
      "Success 412679 355 505\n",
      "Success 412678 356 505\n",
      "Success 412677 357 505\n",
      "Success 423788 358 505\n",
      "Success 439139 359 505\n",
      "Success 423787 360 505\n",
      "Success 406198 361 505\n",
      "Success 406197 362 505\n",
      "Success 440946 363 505\n",
      "Success 440945 364 505\n",
      "Success 439511 365 505\n",
      "Success 439510 366 505\n",
      "Success 439507 367 505\n",
      "Success 439505 368 505\n",
      "Success 439506 369 505\n",
      "Success 439500 370 505\n",
      "Success 439499 371 505\n",
      "Success 439495 372 505\n",
      "Success 439497 373 505\n",
      "Success 406207 374 505\n",
      "Success 441640 375 505\n",
      "Success 440219 376 505\n",
      "Success 440218 377 505\n",
      "Success 423782 378 505\n",
      "Success 440100 379 505\n",
      "Success 440224 380 505\n",
      "Success 430885 381 505\n",
      "Success 430884 382 505\n",
      "Success 387564 383 505\n",
      "Success 387563 384 505\n",
      "Success 426724 385 505\n",
      "Success 426723 386 505\n",
      "Success 403386 387 505\n",
      "Success 403385 388 505\n",
      "Success 403375 389 505\n",
      "Success 401076 390 505\n",
      "Success 356017 391 505\n",
      "Success 356016 392 505\n",
      "Success 356015 393 505\n",
      "Success 356014 394 505\n",
      "Success 356013 395 505\n",
      "Success 356011 396 505\n",
      "Success 356012 397 505\n",
      "Success 356010 398 505\n",
      "Success 356009 399 505\n",
      "Success 356008 400 505\n",
      "Success 356007 401 505\n",
      "Success 356006 402 505\n",
      "Success 356005 403 505\n",
      "Success 356004 404 505\n",
      "Success 356003 405 505\n",
      "Success 356001 406 505\n",
      "Success 356002 407 505\n",
      "Success 356000 408 505\n",
      "Success 355999 409 505\n",
      "Success 355997 410 505\n",
      "Success 355998 411 505\n",
      "Success 355996 412 505\n",
      "Success 355995 413 505\n",
      "Success 355994 414 505\n",
      "Success 355993 415 505\n",
      "Success 355992 416 505\n",
      "Success 355991 417 505\n",
      "Success 392615 418 505\n",
      "Success 350476 419 505\n",
      "Success 350475 420 505\n",
      "Success 352674 421 505\n",
      "Success 366622 422 505\n",
      "Success 386494 423 505\n",
      "Success 351696 424 505\n",
      "Success 386535 425 505\n",
      "Success 351695 426 505\n",
      "Success 351694 427 505\n",
      "Success 366708 428 505\n",
      "Success 366707 429 505\n",
      "Success 350347 430 505\n",
      "Success 361660 431 505\n",
      "Success 361659 432 505\n",
      "Success 361658 433 505\n",
      "Success 361657 434 505\n",
      "Success 361656 435 505\n",
      "Success 361655 436 505\n",
      "Success 361653 437 505\n",
      "Success 361654 438 505\n",
      "Success 354460 439 505\n",
      "Success 361530 440 505\n",
      "Success 361531 441 505\n",
      "Success 354459 442 505\n",
      "Success 354458 443 505\n",
      "Success 354457 444 505\n",
      "Success 354456 445 505\n",
      "Success 354455 446 505\n",
      "Success 354454 447 505\n",
      "Success 354453 448 505\n",
      "Success 319142 449 505\n",
      "Success 296903 450 505\n",
      "Success 343764 451 505\n",
      "Success 300436 452 505\n",
      "Success 300435 453 505\n",
      "Success 291356 454 505\n",
      "Success 298804 455 505\n",
      "Success 319112 456 505\n",
      "Success 291343 457 505\n",
      "Success 298795 458 505\n",
      "Success 297800 459 505\n",
      "Success 287879 460 505\n",
      "Success 287878 461 505\n",
      "Success 287877 462 505\n",
      "Success 287876 463 505\n",
      "Success 287875 464 505\n",
      "Success 287874 465 505\n",
      "Success 287873 466 505\n",
      "Success 287872 467 505\n",
      "Success 287871 468 505\n",
      "Success 287869 469 505\n",
      "Success 287870 470 505\n",
      "Success 287868 471 505\n",
      "Success 287867 472 505\n",
      "Success 287866 473 505\n",
      "Success 287865 474 505\n",
      "Success 287864 475 505\n",
      "Success 287863 476 505\n",
      "Success 287862 477 505\n",
      "Success 287861 478 505\n",
      "Success 287860 479 505\n",
      "Success 287858 480 505\n",
      "Success 287857 481 505\n",
      "Success 287854 482 505\n",
      "Success 287855 483 505\n",
      "Success 287856 484 505\n",
      "Success 287853 485 505\n",
      "Success 306991 486 505\n",
      "Success 306989 487 505\n",
      "Success 306987 488 505\n",
      "Success 258464 489 505\n",
      "Success 258463 490 505\n",
      "Success 255957 491 505\n",
      "Success 249227 492 505\n",
      "Success 251488 493 505\n",
      "Success 251487 494 505\n",
      "Success 255954 495 505\n",
      "Success 264065 496 505\n",
      "Success 225263 497 505\n",
      "Success 225271 498 505\n",
      "Success 238195 499 505\n",
      "Success 237242 500 505\n",
      "Success 226374 501 505\n",
      "Success 222678 502 505\n",
      "Success 211028 503 505\n",
      "Success 211048 504 505\n"
     ]
    }
   ],
   "source": [
    "start = 300\n",
    "end = len(matches)\n",
    "n = len(matches)\n",
    "for idx, game_id in enumerate(matches[start:end]):\n",
    "    try:\n",
    "        #r1 = requests.get('http://www.espncricinfo.com/ci/engine/match/gfx/%s.json?inning=1;template=wagon'%(game_id),\n",
    "        #                 proxies=proxies)\n",
    "        #r2 = requests.get('http://www.espncricinfo.com/ci/engine/match/gfx/%s.json?inning=2;template=wagon'%(game_id),\n",
    "        #                 proxies=proxies)\n",
    "        #print r1.status_code\n",
    "        #print r2.status_code\n",
    "        #with open('data/'+game_id+'-wagon-inning-1.json', 'w') as outfile:\n",
    "        #    json.dump(r1.json(), outfile)\n",
    "\n",
    "        #with open('data/'+str(game_id)+'-wagon-inning-2.json', 'w') as outfile:\n",
    "        #    json.dump(r2.json(), outfile)\n",
    "\n",
    "        #r = requests.get('http://www.espncricinfo.com/ci/engine/match/gfx/%s.json?template=pie_wickets'%(game_id),\n",
    "        #                proxies=proxies)\n",
    "        #with open('data/'+game_id+'-pie-wickets.json', 'w') as outfile:\n",
    "        #    json.dump(r.json(), outfile)\n",
    "        \n",
    "        r = requests.get('http://www.espncricinfo.com/ci/engine/match/%s.html?view=hawkeye'%game_id)\n",
    "        dom = web.Element(r.content)\n",
    "        data_id = dom.by_id('matchId').attr.get('data-contentid')\n",
    "        r = requests.get('http://dynamic.pulselive.com/dynamic/cricinfo/%s/uds.json.jgz'%data_id)\n",
    "        with open('data/'+game_id+'_ball_details.txt', 'wb') as f:\n",
    "            f.write(r.content)\n",
    "        print 'Success', game_id, start + idx, n\n",
    "    except:\n",
    "        with open('data/'+game_id+'_ball_details.txt', 'wb') as f:\n",
    "            f.write('')\n",
    "        print 'Failed', game_id, start + idx, n"
   ]
  },
  {
   "cell_type": "code",
   "execution_count": null,
   "metadata": {
    "collapsed": true
   },
   "outputs": [],
   "source": []
  }
 ],
 "metadata": {
  "kernelspec": {
   "display_name": "Python 2",
   "language": "python",
   "name": "python2"
  },
  "language_info": {
   "codemirror_mode": {
    "name": "ipython",
    "version": 2
   },
   "file_extension": ".py",
   "mimetype": "text/x-python",
   "name": "python",
   "nbconvert_exporter": "python",
   "pygments_lexer": "ipython2",
   "version": "2.7.10"
  }
 },
 "nbformat": 4,
 "nbformat_minor": 0
}
