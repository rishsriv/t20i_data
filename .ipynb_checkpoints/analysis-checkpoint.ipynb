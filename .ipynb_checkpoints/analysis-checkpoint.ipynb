{
 "cells": [
  {
   "cell_type": "markdown",
   "metadata": {},
   "source": [
    "Set up dependencies"
   ]
  },
  {
   "cell_type": "code",
   "execution_count": 1,
   "metadata": {
    "collapsed": false
   },
   "outputs": [],
   "source": [
    "%matplotlib inline\n",
    "\n",
    "import pandas as pd\n",
    "import numpy as np\n",
    "import matplotlib.pyplot as plt\n",
    "import seaborn as sns\n",
    "import os.path\n",
    "pd.set_option('precision', 2)"
   ]
  },
  {
   "cell_type": "markdown",
   "metadata": {},
   "source": [
    "### Put all matches into a single dataframe"
   ]
  },
  {
   "cell_type": "code",
   "execution_count": 2,
   "metadata": {
    "collapsed": true
   },
   "outputs": [],
   "source": [
    "matches = pd.read_csv('all_t20i_05-16.csv')\n",
    "match_date = matches.set_index('match_id').date.to_dict()\n",
    "files = sorted(match_date.items(), key=lambda value: value[1])"
   ]
  },
  {
   "cell_type": "code",
   "execution_count": 3,
   "metadata": {
    "collapsed": true
   },
   "outputs": [],
   "source": [
    "def get_req_rr(row):\n",
    "    runs_to_get = row['target'] - row['cumul_runs']\n",
    "    balls_remaining = 120 - row['cumul_balls']\n",
    "    if balls_remaining > 0 and runs_to_get >= 0:\n",
    "        return 6.*runs_to_get/balls_remaining\n",
    "    else:\n",
    "        return None"
   ]
  },
  {
   "cell_type": "code",
   "execution_count": 4,
   "metadata": {
    "collapsed": false
   },
   "outputs": [
    {
     "name": "stdout",
     "output_type": "stream",
     "text": [
      "0 508\n",
      "50 508\n",
      "100 508\n",
      "150 508\n",
      "200 508\n",
      "250 508\n",
      "300 508\n",
      "350 508\n",
      "400 508\n",
      "450 508\n",
      "500 508\n"
     ]
    }
   ],
   "source": [
    "all_data = pd.DataFrame()\n",
    "for idx, fname in enumerate(files):\n",
    "    if os.path.exists('cleaned_data/%d_summary.csv'%fname[0]):\n",
    "        ind_game = pd.read_csv('cleaned_data/%d_summary.csv'%fname[0])#.sort_values('inning').sort_values('ovr')\n",
    "        ind_game['date'] = fname[1]\n",
    "        t1_score = ind_game[ind_game.inning == 1].runs_w_extras.sum()\n",
    "        ind_game['target'] = ind_game.inning.apply(lambda x: t1_score if x == 2 else None)\n",
    "        ind_game['current_run_rate'] = ind_game.apply(lambda row: 6.*row['cumul_runs']/row['cumul_balls'], axis=1)\n",
    "        ind_game['required_run_rate'] = ind_game.apply(lambda row: get_req_rr(row) if row['inning'] == 2 else None, axis=1)\n",
    "        ind_game['ovr_range'] = ind_game.ovr.apply(lambda x: 'first_6' if x < 6 else 'middle_9' if x < 15 else 'last_5')\n",
    "        all_data = all_data.append(ind_game)\n",
    "    if idx%50 == 0:\n",
    "        print idx, len(files)\n",
    "all_data['balls'] = 1\n",
    "all_data = all_data.reset_index(drop=True)\n",
    "cols = all_data.columns.tolist()\n",
    "all_data = all_data[cols[1:]]\n",
    "all_data['year'] = all_data['date'].apply(lambda x: x.split('-')[0])"
   ]
  },
  {
   "cell_type": "code",
   "execution_count": 5,
   "metadata": {
    "collapsed": true
   },
   "outputs": [],
   "source": [
    "batsman_team_dict = all_data.drop_duplicates(subset = ['batsman_name']).set_index('batsman_name')['batting_team'].to_dict()\n",
    "bowler_team_dict = all_data.drop_duplicates(subset = ['bowler_name']).set_index('bowler_name')['bowling_team'].to_dict()"
   ]
  },
  {
   "cell_type": "code",
   "execution_count": 6,
   "metadata": {
    "collapsed": true
   },
   "outputs": [],
   "source": [
    "major_teams = ['Australia', 'New Zealand', 'England', 'South Africa', 'West Indies', 'Sri Lanka',\n",
    "               'Pakistan', 'India', 'Bangladesh']"
   ]
  },
  {
   "cell_type": "markdown",
   "metadata": {},
   "source": [
    "### Getting all innings of a team"
   ]
  },
  {
   "cell_type": "code",
   "execution_count": 7,
   "metadata": {
    "collapsed": false
   },
   "outputs": [],
   "source": [
    "team_innings = pd.DataFrame()\n",
    "team_innings['opposition'] = all_data.groupby(['batting_team', 'date'])['bowling_team'].apply(lambda x: x.tolist()[0])\n",
    "team_innings['inning'] = all_data.groupby(['batting_team', 'date'])['inning'].apply(lambda x: x.tolist()[0])\n",
    "team_innings['opposition_score'] = all_data.groupby(['bowling_team', 'date'])['runs_w_extras'].agg('sum')\n",
    "team_innings['runs_scored'] = all_data.groupby(['batting_team', 'date'])['runs_w_extras'].agg('sum')\n",
    "team_innings['win'] = team_innings['runs_scored'] > team_innings['opposition_score']\n",
    "team_innings['num_out'] = all_data.groupby(['batting_team', 'date'])['wicket'].agg('sum')\n",
    "team_innings['balls_faced'] = all_data.groupby(['batting_team', 'date'])['ovr'].nunique()\n",
    "team_innings['num_fours'] = all_data.groupby(['batting_team', 'date'])['runs_batter'].apply(lambda x: sum([i == 4 for i in x.tolist()]))\n",
    "team_innings['num_sixes'] = all_data.groupby(['batting_team', 'date'])['runs_batter'].apply(lambda x: sum([i == 6 for i in x.tolist()]))\n",
    "team_innings['num_dots'] = all_data.groupby(['batting_team', 'date'])['runs_batter'].apply(lambda x: sum([i == 0 for i in x.tolist()]))\n",
    "team_innings = team_innings.reset_index()\n",
    "team_innings['year'] = team_innings['date'].apply(lambda x: int(x.split('-')[0]))\n",
    "team_innings['year'] = team_innings['year'].apply(lambda x: '05-07' if x <= 2007 else '08-10' if x <= 2010 else '11-13' if x <=2013 else '14-16')\n",
    "team_innings['run_rate'] = 6.*team_innings.apply(lambda row: row['runs_scored']/max(row['balls_faced'], 1), axis=1)"
   ]
  },
  {
   "cell_type": "markdown",
   "metadata": {},
   "source": [
    "### Aggregating team batting performance by year"
   ]
  },
  {
   "cell_type": "code",
   "execution_count": 8,
   "metadata": {
    "collapsed": false
   },
   "outputs": [],
   "source": [
    "team_year = team_innings.groupby(['batting_team', 'year'])[\n",
    "    ['win', 'runs_scored', 'balls_faced', 'num_fours', 'num_sixes','num_dots']].agg('sum')\\\n",
    "    .join(team_innings.groupby(['batting_team', 'year'])['date'].count()).reset_index()\n",
    "team_year.columns = team_year.columns.tolist()[:-1] + ['num_games']\n",
    "team_year = team_year[['batting_team', 'year', 'num_games', 'win', 'runs_scored', 'balls_faced',\n",
    "                            'num_fours', 'num_sixes', 'num_dots']]\n",
    "team_year['win_percentage'] = 1.*team_year['win']/team_year['num_games']\n",
    "team_year['prop_runs_sixes'] = 1.*(6.*team_year['num_sixes'])/team_year['runs_scored']\n",
    "team_year['prop_runs_boundaries'] = 1.*(6.*team_year['num_sixes'] + 4.*team_year['num_fours'])/team_year['runs_scored']\n",
    "team_year['run_rate'] = 6.*team_year['runs_scored']/team_year['balls_faced']\n",
    "team_year['dot_prop'] = 1.*team_year['num_dots']/team_year['balls_faced']\n",
    "team_year['balls_per_six'] = 1.*team_year['balls_faced']/team_year['num_sixes']\n",
    "team_year['balls_per_four'] = 1.*team_year['balls_faced']/team_year['num_fours']\n",
    "team_year['balls_per_boundary'] = 1.*team_year['balls_faced']/(team_year['num_fours'] + team_year['num_sixes'])"
   ]
  },
  {
   "cell_type": "code",
   "execution_count": 9,
   "metadata": {
    "collapsed": false
   },
   "outputs": [
    {
     "data": {
      "text/html": [
       "<div>\n",
       "<table border=\"1\" class=\"dataframe\">\n",
       "  <thead>\n",
       "    <tr style=\"text-align: right;\">\n",
       "      <th></th>\n",
       "      <th>batting_team</th>\n",
       "      <th>year</th>\n",
       "      <th>num_games</th>\n",
       "      <th>win</th>\n",
       "      <th>runs_scored</th>\n",
       "      <th>balls_faced</th>\n",
       "      <th>num_fours</th>\n",
       "      <th>num_sixes</th>\n",
       "      <th>num_dots</th>\n",
       "      <th>win_percentage</th>\n",
       "      <th>prop_runs_sixes</th>\n",
       "      <th>prop_runs_boundaries</th>\n",
       "      <th>run_rate</th>\n",
       "      <th>dot_prop</th>\n",
       "      <th>balls_per_six</th>\n",
       "      <th>balls_per_four</th>\n",
       "      <th>balls_per_boundary</th>\n",
       "    </tr>\n",
       "  </thead>\n",
       "  <tbody>\n",
       "    <tr>\n",
       "      <th>19</th>\n",
       "      <td>India</td>\n",
       "      <td>05-07</td>\n",
       "      <td>8</td>\n",
       "      <td>6</td>\n",
       "      <td>1331</td>\n",
       "      <td>948</td>\n",
       "      <td>122</td>\n",
       "      <td>46</td>\n",
       "      <td>416</td>\n",
       "      <td>0.75</td>\n",
       "      <td>0.21</td>\n",
       "      <td>0.57</td>\n",
       "      <td>8.42</td>\n",
       "      <td>0.44</td>\n",
       "      <td>20.61</td>\n",
       "      <td>7.77</td>\n",
       "      <td>5.64</td>\n",
       "    </tr>\n",
       "    <tr>\n",
       "      <th>20</th>\n",
       "      <td>India</td>\n",
       "      <td>08-10</td>\n",
       "      <td>18</td>\n",
       "      <td>8</td>\n",
       "      <td>2681</td>\n",
       "      <td>2022</td>\n",
       "      <td>195</td>\n",
       "      <td>103</td>\n",
       "      <td>888</td>\n",
       "      <td>0.44</td>\n",
       "      <td>0.23</td>\n",
       "      <td>0.52</td>\n",
       "      <td>7.96</td>\n",
       "      <td>0.44</td>\n",
       "      <td>19.63</td>\n",
       "      <td>10.37</td>\n",
       "      <td>6.79</td>\n",
       "    </tr>\n",
       "    <tr>\n",
       "      <th>21</th>\n",
       "      <td>India</td>\n",
       "      <td>11-13</td>\n",
       "      <td>19</td>\n",
       "      <td>11</td>\n",
       "      <td>2891</td>\n",
       "      <td>2170</td>\n",
       "      <td>257</td>\n",
       "      <td>73</td>\n",
       "      <td>834</td>\n",
       "      <td>0.58</td>\n",
       "      <td>0.15</td>\n",
       "      <td>0.51</td>\n",
       "      <td>7.99</td>\n",
       "      <td>0.38</td>\n",
       "      <td>29.73</td>\n",
       "      <td>8.44</td>\n",
       "      <td>6.58</td>\n",
       "    </tr>\n",
       "    <tr>\n",
       "      <th>22</th>\n",
       "      <td>India</td>\n",
       "      <td>14-16</td>\n",
       "      <td>21</td>\n",
       "      <td>15</td>\n",
       "      <td>3076</td>\n",
       "      <td>2345</td>\n",
       "      <td>272</td>\n",
       "      <td>83</td>\n",
       "      <td>976</td>\n",
       "      <td>0.71</td>\n",
       "      <td>0.16</td>\n",
       "      <td>0.52</td>\n",
       "      <td>7.87</td>\n",
       "      <td>0.42</td>\n",
       "      <td>28.25</td>\n",
       "      <td>8.62</td>\n",
       "      <td>6.61</td>\n",
       "    </tr>\n",
       "  </tbody>\n",
       "</table>\n",
       "</div>"
      ],
      "text/plain": [
       "   batting_team   year  num_games  win  runs_scored  balls_faced  num_fours  \\\n",
       "19        India  05-07          8    6         1331          948        122   \n",
       "20        India  08-10         18    8         2681         2022        195   \n",
       "21        India  11-13         19   11         2891         2170        257   \n",
       "22        India  14-16         21   15         3076         2345        272   \n",
       "\n",
       "    num_sixes  num_dots  win_percentage  prop_runs_sixes  \\\n",
       "19         46       416            0.75             0.21   \n",
       "20        103       888            0.44             0.23   \n",
       "21         73       834            0.58             0.15   \n",
       "22         83       976            0.71             0.16   \n",
       "\n",
       "    prop_runs_boundaries  run_rate  dot_prop  balls_per_six  balls_per_four  \\\n",
       "19                  0.57      8.42      0.44          20.61            7.77   \n",
       "20                  0.52      7.96      0.44          19.63           10.37   \n",
       "21                  0.51      7.99      0.38          29.73            8.44   \n",
       "22                  0.52      7.87      0.42          28.25            8.62   \n",
       "\n",
       "    balls_per_boundary  \n",
       "19                5.64  \n",
       "20                6.79  \n",
       "21                6.58  \n",
       "22                6.61  "
      ]
     },
     "execution_count": 9,
     "metadata": {},
     "output_type": "execute_result"
    }
   ],
   "source": [
    "team_year[team_year.batting_team == 'India']"
   ]
  },
  {
   "cell_type": "markdown",
   "metadata": {},
   "source": [
    "### Analyze team by batting position"
   ]
  },
  {
   "cell_type": "code",
   "execution_count": 10,
   "metadata": {
    "collapsed": true
   },
   "outputs": [],
   "source": [
    "team_batting_pos = pd.DataFrame()\n",
    "team_batting_pos['runs_scored'] = all_data.groupby(['batting_team', 'batting_order'])['runs_w_extras'].agg('sum')\n",
    "team_batting_pos['num_out'] = all_data.groupby(['batting_team', 'batting_order'])['wicket'].agg('sum')\n",
    "team_batting_pos['balls_faced'] = all_data.groupby(['batting_team', 'batting_order'])['ovr'].count()\n",
    "team_batting_pos['num_fours'] = all_data.groupby(['batting_team', 'batting_order'])['runs_batter'].apply(lambda x: sum([i == 4 for i in x.tolist()]))\n",
    "team_batting_pos['num_sixes'] = all_data.groupby(['batting_team', 'batting_order'])['runs_batter'].apply(lambda x: sum([i == 6 for i in x.tolist()]))\n",
    "team_batting_pos['num_dots'] = all_data.groupby(['batting_team', 'batting_order'])['runs_batter'].apply(lambda x: sum([i == 0 for i in x.tolist()]))\n",
    "team_batting_pos = team_batting_pos.reset_index()\n",
    "team_batting_pos['strike_rate'] = 100.*team_batting_pos.apply(lambda row: row['runs_scored']/max(row['balls_faced'], 1), axis=1)\n",
    "team_batting_pos['average'] = 1.*team_batting_pos.apply(lambda row: row['runs_scored']/max(row['num_out'], 1), axis=1)"
   ]
  },
  {
   "cell_type": "markdown",
   "metadata": {},
   "source": [
    "### Getting all innings of a batsman"
   ]
  },
  {
   "cell_type": "code",
   "execution_count": 11,
   "metadata": {
    "collapsed": false
   },
   "outputs": [],
   "source": [
    "batsman_innings = pd.DataFrame()\n",
    "batsman_innings['inning'] = all_data.groupby(['batsman_name', 'date'])['inning'].apply(lambda x: x.tolist()[0])\n",
    "batsman_innings['opposition'] = all_data.groupby(['batsman_name', 'date'])['bowling_team'].apply(lambda x: x.tolist()[0])\n",
    "batsman_innings['runs_scored'] = all_data.groupby(['batsman_name', 'date'])['runs_batter'].agg('sum')\n",
    "batsman_innings['num_out'] = all_data.groupby(['batsman_name', 'date'])['wicket'].agg('sum')\n",
    "batsman_innings['balls_faced'] = all_data.groupby(['batsman_name', 'date'])['ovr'].count()\n",
    "batsman_innings['num_fours'] = all_data.groupby(['batsman_name', 'date'])['runs_batter'].apply(lambda x: sum([i == 4 for i in x.tolist()]))\n",
    "batsman_innings['num_sixes'] = all_data.groupby(['batsman_name', 'date'])['runs_batter'].apply(lambda x: sum([i == 6 for i in x.tolist()]))\n",
    "batsman_innings['num_dots'] = all_data.groupby(['batsman_name', 'date'])['runs_batter'].apply(lambda x: sum([i == 0 for i in x.tolist()]))\n",
    "batsman_innings['batting_order'] = all_data.groupby(['batsman_name', 'date'])['batting_order'].apply(lambda x: x.dropna().values[0])\n",
    "batsman_innings['wicket_method'] = all_data.groupby(['batsman_name', 'date'])['wicket_method'].apply(lambda x: x.dropna().tolist())\n",
    "batsman_innings['wicket_method'] = batsman_innings['wicket_method'].apply(lambda x: 'not out' if len(x) == 0 else x[-1])\n",
    "batsman_innings['wicket_method'] = batsman_innings.apply(lambda row: 'not out' if row['num_out'] == 0 else row['wicket_method'], axis=1)\n",
    "for i in ['caught', 'not out', 'leg before wicket', 'bowled', 'hit wicket',\n",
    "       'run out', 'stumped', 'retired not out (hurt)']:\n",
    "    batsman_innings[i] = batsman_innings['wicket_method'] == i\n",
    "batsman_innings = batsman_innings.reset_index()\n",
    "batsman_innings['team'] = batsman_innings['batsman_name'].apply(batsman_team_dict.get)\n",
    "batsman_innings['year'] = batsman_innings['date'].apply(lambda x: int(x.split('-')[0]))\n",
    "batsman_innings['year'] = batsman_innings['year'].apply(lambda x: '05-07' if x <= 2007 else '08-10' if x <= 2010 else '11-13' if x <=2013 else '14-16')\n",
    "batsman_innings['strike_rate'] = 100.*batsman_innings.apply(lambda row: row['runs_scored']/max(row['balls_faced'], 1), axis=1)"
   ]
  },
  {
   "cell_type": "markdown",
   "metadata": {},
   "source": [
    "### Aggregating batsman performances by batting order"
   ]
  },
  {
   "cell_type": "code",
   "execution_count": 12,
   "metadata": {
    "collapsed": false
   },
   "outputs": [],
   "source": [
    "batsman_params = ['runs_scored', 'balls_faced', 'num_fours', 'num_sixes', 'num_dots', 'num_out',\n",
    "                  'caught', 'not out', 'leg before wicket', 'bowled', 'hit wicket',\n",
    "                  'run out', 'stumped', 'retired not out (hurt)']\n",
    "batsman_order = batsman_innings.groupby(['batsman_name', 'batting_order'])[batsman_params].agg('sum')\\\n",
    "    .join(batsman_innings.groupby(['batsman_name', 'batting_order'])['date'].nunique())\n",
    "batsman_order.columns = batsman_order.columns.tolist()[:-1] + ['num_innings']\n",
    "batsman_order = batsman_order.reset_index()\n",
    "for i in ['caught', 'not out', 'leg before wicket', 'bowled', 'hit wicket',\n",
    "       'run out', 'stumped', 'retired not out (hurt)']:\n",
    "    batsman_order[i] = 1.*batsman_order[i]/batsman_order['num_innings']\n",
    "batsman_order['team'] = batsman_order['batsman_name'].apply(batsman_team_dict.get)\n",
    "batsman_order['average'] = batsman_order.apply(lambda row: row['runs_scored']/max(row['num_out'], 1), axis=1)\n",
    "batsman_order['runs_per_inning'] = batsman_order['runs_scored']/batsman_order['num_innings']\n",
    "batsman_order['strike_rate'] = 100.*batsman_order.apply(lambda row: row['runs_scored']/max(row['balls_faced'], 1), axis=1)\n",
    "batsman_order['impact'] = batsman_order['strike_rate']*batsman_order['runs_per_inning']\n",
    "batsman_order['prop_dot'] = 100.*batsman_order['num_dots']/batsman_order['balls_faced']\n",
    "batsman_order['balls_per_six'] = batsman_order['balls_faced']/batsman_order['num_sixes']\n",
    "batsman_order['balls_per_boundary'] = batsman_order['balls_faced']/(batsman_order['num_sixes'] + batsman_order['num_fours'])\n",
    "batsman_order['prop_run_boundary'] = 100.*(6.*batsman_order['num_sixes'] + 4.*batsman_order['num_fours'])/batsman_order['runs_scored']\n",
    "batsman_order['prop_run_six'] = 100.*(6.*batsman_order['num_sixes'])/batsman_order['runs_scored']"
   ]
  },
  {
   "cell_type": "markdown",
   "metadata": {},
   "source": [
    "### Aggregating batsman performances by year"
   ]
  },
  {
   "cell_type": "code",
   "execution_count": 13,
   "metadata": {
    "collapsed": false
   },
   "outputs": [],
   "source": [
    "batsman_params = ['runs_scored', 'balls_faced', 'num_fours', 'num_sixes', 'num_dots', 'num_out',\n",
    "                  'caught', 'not out', 'leg before wicket', 'bowled', 'hit wicket',\n",
    "                  'run out', 'stumped', 'retired not out (hurt)']\n",
    "batsman_year = batsman_innings.groupby(['batsman_name', 'year'])[batsman_params].agg('sum')\\\n",
    "    .join(batsman_innings.groupby(['batsman_name', 'year'])['date'].nunique())\n",
    "batsman_year.columns = batsman_year.columns.tolist()[:-1] + ['num_innings']\n",
    "batsman_year = batsman_year.reset_index()\n",
    "for i in ['caught', 'not out', 'leg before wicket', 'bowled', 'hit wicket',\n",
    "       'run out', 'stumped', 'retired not out (hurt)']:\n",
    "    batsman_year[i] = 1.*batsman_year[i]/batsman_year['num_innings']\n",
    "batsman_year['team'] = batsman_year['batsman_name'].apply(batsman_team_dict.get)\n",
    "batsman_year['average'] = batsman_year.apply(lambda row: row['runs_scored']/max(row['num_out'], 1), axis=1)\n",
    "batsman_year['runs_per_inning'] = batsman_year['runs_scored']/batsman_year['num_innings']\n",
    "batsman_year['strike_rate'] = 100.*batsman_year.apply(lambda row: row['runs_scored']/max(row['balls_faced'], 1), axis=1)\n",
    "batsman_year['impact'] = batsman_year['strike_rate']*batsman_year['runs_per_inning']\n",
    "batsman_year['prop_dot'] = 100.*batsman_year['num_dots']/batsman_year['balls_faced']\n",
    "batsman_year['balls_per_six'] = batsman_year['balls_faced']/batsman_year['num_sixes']\n",
    "batsman_year['balls_per_boundary'] = batsman_year['balls_faced']/(batsman_year['num_sixes'] + batsman_year['num_fours'])\n",
    "batsman_year['prop_run_boundary'] = 100.*(6.*batsman_year['num_sixes'] + 4.*batsman_year['num_fours'])/batsman_year['runs_scored']\n",
    "batsman_year['prop_run_six'] = 100.*(6.*batsman_year['num_sixes'])/batsman_year['runs_scored']"
   ]
  },
  {
   "cell_type": "code",
   "execution_count": 14,
   "metadata": {
    "collapsed": false,
    "scrolled": true
   },
   "outputs": [
    {
     "data": {
      "text/html": [
       "<div>\n",
       "<table border=\"1\" class=\"dataframe\">\n",
       "  <thead>\n",
       "    <tr style=\"text-align: right;\">\n",
       "      <th></th>\n",
       "      <th>batsman_name</th>\n",
       "      <th>year</th>\n",
       "      <th>runs_scored</th>\n",
       "      <th>balls_faced</th>\n",
       "      <th>num_fours</th>\n",
       "      <th>num_sixes</th>\n",
       "      <th>num_dots</th>\n",
       "      <th>num_out</th>\n",
       "      <th>caught</th>\n",
       "      <th>not out</th>\n",
       "      <th>...</th>\n",
       "      <th>team</th>\n",
       "      <th>average</th>\n",
       "      <th>runs_per_inning</th>\n",
       "      <th>strike_rate</th>\n",
       "      <th>impact</th>\n",
       "      <th>prop_dot</th>\n",
       "      <th>balls_per_six</th>\n",
       "      <th>balls_per_boundary</th>\n",
       "      <th>prop_run_boundary</th>\n",
       "      <th>prop_run_six</th>\n",
       "    </tr>\n",
       "  </thead>\n",
       "  <tbody>\n",
       "    <tr>\n",
       "      <th>1454</th>\n",
       "      <td>Yuvraj Singh</td>\n",
       "      <td>05-07</td>\n",
       "      <td>179</td>\n",
       "      <td>103</td>\n",
       "      <td>10</td>\n",
       "      <td>15</td>\n",
       "      <td>36</td>\n",
       "      <td>4</td>\n",
       "      <td>0.67</td>\n",
       "      <td>0.33</td>\n",
       "      <td>...</td>\n",
       "      <td>India</td>\n",
       "      <td>44.75</td>\n",
       "      <td>29.83</td>\n",
       "      <td>173.79</td>\n",
       "      <td>5184.63</td>\n",
       "      <td>34.95</td>\n",
       "      <td>6.87</td>\n",
       "      <td>4.12</td>\n",
       "      <td>72.63</td>\n",
       "      <td>50.28</td>\n",
       "    </tr>\n",
       "    <tr>\n",
       "      <th>1455</th>\n",
       "      <td>Yuvraj Singh</td>\n",
       "      <td>08-10</td>\n",
       "      <td>376</td>\n",
       "      <td>278</td>\n",
       "      <td>23</td>\n",
       "      <td>23</td>\n",
       "      <td>110</td>\n",
       "      <td>14</td>\n",
       "      <td>0.60</td>\n",
       "      <td>0.20</td>\n",
       "      <td>...</td>\n",
       "      <td>India</td>\n",
       "      <td>26.86</td>\n",
       "      <td>25.07</td>\n",
       "      <td>135.25</td>\n",
       "      <td>3390.31</td>\n",
       "      <td>39.57</td>\n",
       "      <td>12.09</td>\n",
       "      <td>6.04</td>\n",
       "      <td>61.17</td>\n",
       "      <td>36.70</td>\n",
       "    </tr>\n",
       "    <tr>\n",
       "      <th>1456</th>\n",
       "      <td>Yuvraj Singh</td>\n",
       "      <td>11-13</td>\n",
       "      <td>313</td>\n",
       "      <td>219</td>\n",
       "      <td>20</td>\n",
       "      <td>21</td>\n",
       "      <td>83</td>\n",
       "      <td>9</td>\n",
       "      <td>0.55</td>\n",
       "      <td>0.27</td>\n",
       "      <td>...</td>\n",
       "      <td>India</td>\n",
       "      <td>34.78</td>\n",
       "      <td>28.45</td>\n",
       "      <td>142.92</td>\n",
       "      <td>4066.79</td>\n",
       "      <td>37.90</td>\n",
       "      <td>10.43</td>\n",
       "      <td>5.34</td>\n",
       "      <td>65.81</td>\n",
       "      <td>40.26</td>\n",
       "    </tr>\n",
       "    <tr>\n",
       "      <th>1457</th>\n",
       "      <td>Yuvraj Singh</td>\n",
       "      <td>14-16</td>\n",
       "      <td>214</td>\n",
       "      <td>215</td>\n",
       "      <td>19</td>\n",
       "      <td>10</td>\n",
       "      <td>109</td>\n",
       "      <td>9</td>\n",
       "      <td>0.67</td>\n",
       "      <td>0.25</td>\n",
       "      <td>...</td>\n",
       "      <td>India</td>\n",
       "      <td>23.78</td>\n",
       "      <td>17.83</td>\n",
       "      <td>99.53</td>\n",
       "      <td>1775.04</td>\n",
       "      <td>50.70</td>\n",
       "      <td>21.50</td>\n",
       "      <td>7.41</td>\n",
       "      <td>63.55</td>\n",
       "      <td>28.04</td>\n",
       "    </tr>\n",
       "  </tbody>\n",
       "</table>\n",
       "<p>4 rows × 27 columns</p>\n",
       "</div>"
      ],
      "text/plain": [
       "      batsman_name   year  runs_scored  balls_faced  num_fours  num_sixes  \\\n",
       "1454  Yuvraj Singh  05-07          179          103         10         15   \n",
       "1455  Yuvraj Singh  08-10          376          278         23         23   \n",
       "1456  Yuvraj Singh  11-13          313          219         20         21   \n",
       "1457  Yuvraj Singh  14-16          214          215         19         10   \n",
       "\n",
       "      num_dots  num_out  caught  not out      ...        team  average  \\\n",
       "1454        36        4    0.67     0.33      ...       India    44.75   \n",
       "1455       110       14    0.60     0.20      ...       India    26.86   \n",
       "1456        83        9    0.55     0.27      ...       India    34.78   \n",
       "1457       109        9    0.67     0.25      ...       India    23.78   \n",
       "\n",
       "      runs_per_inning  strike_rate   impact  prop_dot  balls_per_six  \\\n",
       "1454            29.83       173.79  5184.63     34.95           6.87   \n",
       "1455            25.07       135.25  3390.31     39.57          12.09   \n",
       "1456            28.45       142.92  4066.79     37.90          10.43   \n",
       "1457            17.83        99.53  1775.04     50.70          21.50   \n",
       "\n",
       "     balls_per_boundary  prop_run_boundary  prop_run_six  \n",
       "1454               4.12              72.63         50.28  \n",
       "1455               6.04              61.17         36.70  \n",
       "1456               5.34              65.81         40.26  \n",
       "1457               7.41              63.55         28.04  \n",
       "\n",
       "[4 rows x 27 columns]"
      ]
     },
     "execution_count": 14,
     "metadata": {},
     "output_type": "execute_result"
    }
   ],
   "source": [
    "batsman_year[batsman_year.batsman_name.str.contains('Yuvraj')]"
   ]
  },
  {
   "cell_type": "code",
   "execution_count": 15,
   "metadata": {
    "collapsed": false
   },
   "outputs": [
    {
     "data": {
      "text/html": [
       "<div>\n",
       "<table border=\"1\" class=\"dataframe\">\n",
       "  <thead>\n",
       "    <tr style=\"text-align: right;\">\n",
       "      <th></th>\n",
       "      <th>batsman_name</th>\n",
       "      <th>team</th>\n",
       "      <th>year</th>\n",
       "      <th>runs_scored</th>\n",
       "      <th>balls_faced</th>\n",
       "      <th>num_innings</th>\n",
       "      <th>runs_per_inning</th>\n",
       "      <th>strike_rate</th>\n",
       "      <th>impact</th>\n",
       "      <th>prop_dot</th>\n",
       "      <th>balls_per_six</th>\n",
       "      <th>prop_run_six</th>\n",
       "    </tr>\n",
       "  </thead>\n",
       "  <tbody>\n",
       "    <tr>\n",
       "      <th>6</th>\n",
       "      <td>Aaron Finch</td>\n",
       "      <td>Australia</td>\n",
       "      <td>11-13</td>\n",
       "      <td>366</td>\n",
       "      <td>211</td>\n",
       "      <td>9</td>\n",
       "      <td>40.67</td>\n",
       "      <td>173.46</td>\n",
       "      <td>7054.03</td>\n",
       "      <td>30.81</td>\n",
       "      <td>12.41</td>\n",
       "      <td>27.87</td>\n",
       "    </tr>\n",
       "    <tr>\n",
       "      <th>1417</th>\n",
       "      <td>Virat Kohli</td>\n",
       "      <td>India</td>\n",
       "      <td>14-16</td>\n",
       "      <td>740</td>\n",
       "      <td>570</td>\n",
       "      <td>15</td>\n",
       "      <td>49.33</td>\n",
       "      <td>129.82</td>\n",
       "      <td>6404.68</td>\n",
       "      <td>30.53</td>\n",
       "      <td>31.67</td>\n",
       "      <td>14.59</td>\n",
       "    </tr>\n",
       "    <tr>\n",
       "      <th>244</th>\n",
       "      <td>Chris Gayle</td>\n",
       "      <td>West Indies</td>\n",
       "      <td>05-07</td>\n",
       "      <td>193</td>\n",
       "      <td>126</td>\n",
       "      <td>5</td>\n",
       "      <td>38.60</td>\n",
       "      <td>153.17</td>\n",
       "      <td>5912.54</td>\n",
       "      <td>42.86</td>\n",
       "      <td>11.45</td>\n",
       "      <td>34.20</td>\n",
       "    </tr>\n",
       "    <tr>\n",
       "      <th>197</th>\n",
       "      <td>Brendon McCullum</td>\n",
       "      <td>New Zealand</td>\n",
       "      <td>11-13</td>\n",
       "      <td>781</td>\n",
       "      <td>536</td>\n",
       "      <td>20</td>\n",
       "      <td>39.05</td>\n",
       "      <td>145.71</td>\n",
       "      <td>5689.93</td>\n",
       "      <td>36.94</td>\n",
       "      <td>14.89</td>\n",
       "      <td>27.66</td>\n",
       "    </tr>\n",
       "    <tr>\n",
       "      <th>109</th>\n",
       "      <td>Andrew Symonds</td>\n",
       "      <td>Australia</td>\n",
       "      <td>05-07</td>\n",
       "      <td>337</td>\n",
       "      <td>203</td>\n",
       "      <td>10</td>\n",
       "      <td>33.70</td>\n",
       "      <td>166.01</td>\n",
       "      <td>5594.53</td>\n",
       "      <td>25.12</td>\n",
       "      <td>20.30</td>\n",
       "      <td>17.80</td>\n",
       "    </tr>\n",
       "  </tbody>\n",
       "</table>\n",
       "</div>"
      ],
      "text/plain": [
       "          batsman_name         team   year  runs_scored  balls_faced  \\\n",
       "6          Aaron Finch    Australia  11-13          366          211   \n",
       "1417       Virat Kohli        India  14-16          740          570   \n",
       "244        Chris Gayle  West Indies  05-07          193          126   \n",
       "197   Brendon McCullum  New Zealand  11-13          781          536   \n",
       "109     Andrew Symonds    Australia  05-07          337          203   \n",
       "\n",
       "      num_innings  runs_per_inning  strike_rate   impact  prop_dot  \\\n",
       "6               9            40.67       173.46  7054.03     30.81   \n",
       "1417           15            49.33       129.82  6404.68     30.53   \n",
       "244             5            38.60       153.17  5912.54     42.86   \n",
       "197            20            39.05       145.71  5689.93     36.94   \n",
       "109            10            33.70       166.01  5594.53     25.12   \n",
       "\n",
       "      balls_per_six  prop_run_six  \n",
       "6             12.41         27.87  \n",
       "1417          31.67         14.59  \n",
       "244           11.45         34.20  \n",
       "197           14.89         27.66  \n",
       "109           20.30         17.80  "
      ]
     },
     "execution_count": 15,
     "metadata": {},
     "output_type": "execute_result"
    }
   ],
   "source": [
    "params = ['batsman_name', 'team', 'year', 'runs_scored', 'balls_faced', 'num_innings', 'runs_per_inning',\n",
    "      'strike_rate', 'impact', 'prop_dot', 'balls_per_six', 'prop_run_six']\n",
    "batsman_year[(batsman_year.balls_faced >= 50) & (batsman_year.num_innings >= 5) & (batsman_year.team.isin(major_teams))]\\\n",
    "    .sort_values('impact', ascending=False)[params].head()"
   ]
  },
  {
   "cell_type": "markdown",
   "metadata": {},
   "source": [
    "### Getting all performances of a bowler"
   ]
  },
  {
   "cell_type": "code",
   "execution_count": 16,
   "metadata": {
    "collapsed": false
   },
   "outputs": [],
   "source": [
    "bowler_spells = pd.DataFrame()\n",
    "bowler_spells['inning'] = all_data.groupby(['bowler_name', 'date'])['inning'].apply(lambda x: x.tolist()[0])\n",
    "bowler_spells['opposition'] = all_data.groupby(['bowler_name', 'date'])['batting_team'].apply(lambda x: x.tolist()[0])\n",
    "bowler_spells['runs_conceded'] = all_data.groupby(['bowler_name', 'date'])['runs_batter'].agg('sum')\n",
    "bowler_spells['wickets_taken'] = all_data.groupby(['bowler_name', 'date'])['wicket'].agg('sum')\n",
    "bowler_spells['balls_bowled'] = all_data.groupby(['bowler_name', 'date'])['ovr'].count()\n",
    "bowler_spells['num_dots'] = all_data.groupby(['bowler_name', 'date'])['runs_batter'].apply(lambda x: sum([i == 0 for i in x.tolist()]))\n",
    "bowler_spells = bowler_spells.reset_index()\n",
    "bowler_spells['team'] = bowler_spells['bowler_name'].apply(bowler_team_dict.get)\n",
    "bowler_spells['year'] = bowler_spells['date'].apply(lambda x: int(x.split('-')[0]))\n",
    "bowler_spells['year'] = bowler_spells['year'].apply(lambda x: '05-07' if x <= 2007 else '08-10' if x <= 2010 else '11-13' if x <=2013 else '14-16')\n",
    "bowler_spells['economy_rate'] = 6.*bowler_spells.apply(lambda row: row['runs_conceded']/max(row['balls_bowled'], 1), axis=1)"
   ]
  },
  {
   "cell_type": "markdown",
   "metadata": {},
   "source": [
    "### Aggregating bowling performances by year"
   ]
  },
  {
   "cell_type": "code",
   "execution_count": 17,
   "metadata": {
    "collapsed": false
   },
   "outputs": [],
   "source": [
    "bowler_params = ['runs_conceded', 'balls_bowled', 'wickets_taken', 'num_dots']\n",
    "bowler_year = bowler_spells.groupby(['bowler_name', 'year'])[bowler_params].agg('sum')\\\n",
    "    .join(bowler_spells.groupby(['bowler_name', 'year'])['date'].nunique())\n",
    "bowler_year.columns = bowler_year.columns.tolist()[:-1] + ['num_spells']\n",
    "bowler_year = bowler_year.reset_index()\n",
    "bowler_year['team'] = bowler_year['bowler_name'].apply(bowler_team_dict.get)\n",
    "bowler_year['average'] = bowler_year['runs_conceded']/bowler_year['wickets_taken']\n",
    "bowler_year['wickets_per_spell'] = bowler_year['wickets_taken']/bowler_year['num_spells']\n",
    "bowler_year['strike_rate'] = bowler_year['balls_bowled']/bowler_year['wickets_taken']\n",
    "bowler_year['economy_rate'] = 6.*bowler_year['runs_conceded']/bowler_year['balls_bowled']\n",
    "bowler_year['prop_dot'] = 100.*bowler_year['num_dots']/bowler_year['balls_bowled']"
   ]
  },
  {
   "cell_type": "code",
   "execution_count": 18,
   "metadata": {
    "collapsed": false
   },
   "outputs": [
    {
     "data": {
      "text/html": [
       "<div>\n",
       "<table border=\"1\" class=\"dataframe\">\n",
       "  <thead>\n",
       "    <tr style=\"text-align: right;\">\n",
       "      <th></th>\n",
       "      <th>bowler_name</th>\n",
       "      <th>year</th>\n",
       "      <th>runs_conceded</th>\n",
       "      <th>balls_bowled</th>\n",
       "      <th>wickets_taken</th>\n",
       "      <th>num_dots</th>\n",
       "      <th>num_spells</th>\n",
       "      <th>team</th>\n",
       "      <th>average</th>\n",
       "      <th>wickets_per_spell</th>\n",
       "      <th>strike_rate</th>\n",
       "      <th>economy_rate</th>\n",
       "      <th>prop_dot</th>\n",
       "    </tr>\n",
       "  </thead>\n",
       "  <tbody>\n",
       "    <tr>\n",
       "      <th>759</th>\n",
       "      <td>Ravichandran Ashwin</td>\n",
       "      <td>08-10</td>\n",
       "      <td>68</td>\n",
       "      <td>50</td>\n",
       "      <td>2</td>\n",
       "      <td>16</td>\n",
       "      <td>2</td>\n",
       "      <td>India</td>\n",
       "      <td>34.00</td>\n",
       "      <td>1.00</td>\n",
       "      <td>25.00</td>\n",
       "      <td>8.16</td>\n",
       "      <td>32.00</td>\n",
       "    </tr>\n",
       "    <tr>\n",
       "      <th>760</th>\n",
       "      <td>Ravichandran Ashwin</td>\n",
       "      <td>11-13</td>\n",
       "      <td>483</td>\n",
       "      <td>405</td>\n",
       "      <td>13</td>\n",
       "      <td>162</td>\n",
       "      <td>17</td>\n",
       "      <td>India</td>\n",
       "      <td>37.15</td>\n",
       "      <td>0.76</td>\n",
       "      <td>31.15</td>\n",
       "      <td>7.16</td>\n",
       "      <td>40.00</td>\n",
       "    </tr>\n",
       "    <tr>\n",
       "      <th>761</th>\n",
       "      <td>Ravichandran Ashwin</td>\n",
       "      <td>14-16</td>\n",
       "      <td>387</td>\n",
       "      <td>429</td>\n",
       "      <td>36</td>\n",
       "      <td>209</td>\n",
       "      <td>18</td>\n",
       "      <td>India</td>\n",
       "      <td>10.75</td>\n",
       "      <td>2.00</td>\n",
       "      <td>11.92</td>\n",
       "      <td>5.41</td>\n",
       "      <td>48.72</td>\n",
       "    </tr>\n",
       "  </tbody>\n",
       "</table>\n",
       "</div>"
      ],
      "text/plain": [
       "             bowler_name   year  runs_conceded  balls_bowled  wickets_taken  \\\n",
       "759  Ravichandran Ashwin  08-10             68            50              2   \n",
       "760  Ravichandran Ashwin  11-13            483           405             13   \n",
       "761  Ravichandran Ashwin  14-16            387           429             36   \n",
       "\n",
       "     num_dots  num_spells   team  average  wickets_per_spell  strike_rate  \\\n",
       "759        16           2  India    34.00               1.00        25.00   \n",
       "760       162          17  India    37.15               0.76        31.15   \n",
       "761       209          18  India    10.75               2.00        11.92   \n",
       "\n",
       "     economy_rate  prop_dot  \n",
       "759          8.16     32.00  \n",
       "760          7.16     40.00  \n",
       "761          5.41     48.72  "
      ]
     },
     "execution_count": 18,
     "metadata": {},
     "output_type": "execute_result"
    }
   ],
   "source": [
    "bowler_year[bowler_year.bowler_name.str.contains('Ashwin')]"
   ]
  },
  {
   "cell_type": "code",
   "execution_count": 19,
   "metadata": {
    "collapsed": false
   },
   "outputs": [
    {
     "data": {
      "text/html": [
       "<div>\n",
       "<table border=\"1\" class=\"dataframe\">\n",
       "  <thead>\n",
       "    <tr style=\"text-align: right;\">\n",
       "      <th></th>\n",
       "      <th>bowler_name</th>\n",
       "      <th>year</th>\n",
       "      <th>runs_conceded</th>\n",
       "      <th>balls_bowled</th>\n",
       "      <th>wickets_taken</th>\n",
       "      <th>num_dots</th>\n",
       "      <th>num_spells</th>\n",
       "      <th>team</th>\n",
       "      <th>average</th>\n",
       "      <th>wickets_per_spell</th>\n",
       "      <th>strike_rate</th>\n",
       "      <th>economy_rate</th>\n",
       "      <th>prop_dot</th>\n",
       "    </tr>\n",
       "  </thead>\n",
       "  <tbody>\n",
       "    <tr>\n",
       "      <th>201</th>\n",
       "      <td>Dale Steyn</td>\n",
       "      <td>11-13</td>\n",
       "      <td>179</td>\n",
       "      <td>234</td>\n",
       "      <td>17</td>\n",
       "      <td>139</td>\n",
       "      <td>11</td>\n",
       "      <td>South Africa</td>\n",
       "      <td>10.53</td>\n",
       "      <td>1.55</td>\n",
       "      <td>13.76</td>\n",
       "      <td>4.59</td>\n",
       "      <td>59.40</td>\n",
       "    </tr>\n",
       "    <tr>\n",
       "      <th>1011</th>\n",
       "      <td>Umar Gul</td>\n",
       "      <td>05-07</td>\n",
       "      <td>153</td>\n",
       "      <td>193</td>\n",
       "      <td>12</td>\n",
       "      <td>94</td>\n",
       "      <td>8</td>\n",
       "      <td>Pakistan</td>\n",
       "      <td>12.75</td>\n",
       "      <td>1.50</td>\n",
       "      <td>16.08</td>\n",
       "      <td>4.76</td>\n",
       "      <td>48.70</td>\n",
       "    </tr>\n",
       "    <tr>\n",
       "      <th>365</th>\n",
       "      <td>Imran Tahir</td>\n",
       "      <td>11-13</td>\n",
       "      <td>104</td>\n",
       "      <td>131</td>\n",
       "      <td>7</td>\n",
       "      <td>47</td>\n",
       "      <td>6</td>\n",
       "      <td>South Africa</td>\n",
       "      <td>14.86</td>\n",
       "      <td>1.17</td>\n",
       "      <td>18.71</td>\n",
       "      <td>4.76</td>\n",
       "      <td>35.88</td>\n",
       "    </tr>\n",
       "    <tr>\n",
       "      <th>832</th>\n",
       "      <td>Samuel Badree</td>\n",
       "      <td>14-16</td>\n",
       "      <td>233</td>\n",
       "      <td>284</td>\n",
       "      <td>20</td>\n",
       "      <td>156</td>\n",
       "      <td>12</td>\n",
       "      <td>West Indies</td>\n",
       "      <td>11.65</td>\n",
       "      <td>1.67</td>\n",
       "      <td>14.20</td>\n",
       "      <td>4.92</td>\n",
       "      <td>54.93</td>\n",
       "    </tr>\n",
       "    <tr>\n",
       "      <th>208</th>\n",
       "      <td>Daniel Vettori</td>\n",
       "      <td>08-10</td>\n",
       "      <td>391</td>\n",
       "      <td>469</td>\n",
       "      <td>22</td>\n",
       "      <td>208</td>\n",
       "      <td>20</td>\n",
       "      <td>New Zealand</td>\n",
       "      <td>17.77</td>\n",
       "      <td>1.10</td>\n",
       "      <td>21.32</td>\n",
       "      <td>5.00</td>\n",
       "      <td>44.35</td>\n",
       "    </tr>\n",
       "  </tbody>\n",
       "</table>\n",
       "</div>"
      ],
      "text/plain": [
       "         bowler_name   year  runs_conceded  balls_bowled  wickets_taken  \\\n",
       "201       Dale Steyn  11-13            179           234             17   \n",
       "1011        Umar Gul  05-07            153           193             12   \n",
       "365      Imran Tahir  11-13            104           131              7   \n",
       "832    Samuel Badree  14-16            233           284             20   \n",
       "208   Daniel Vettori  08-10            391           469             22   \n",
       "\n",
       "      num_dots  num_spells          team  average  wickets_per_spell  \\\n",
       "201        139          11  South Africa    10.53               1.55   \n",
       "1011        94           8      Pakistan    12.75               1.50   \n",
       "365         47           6  South Africa    14.86               1.17   \n",
       "832        156          12   West Indies    11.65               1.67   \n",
       "208        208          20   New Zealand    17.77               1.10   \n",
       "\n",
       "      strike_rate  economy_rate  prop_dot  \n",
       "201         13.76          4.59     59.40  \n",
       "1011        16.08          4.76     48.70  \n",
       "365         18.71          4.76     35.88  \n",
       "832         14.20          4.92     54.93  \n",
       "208         21.32          5.00     44.35  "
      ]
     },
     "execution_count": 19,
     "metadata": {},
     "output_type": "execute_result"
    }
   ],
   "source": [
    "bowler_year[(bowler_year.balls_bowled >= 100) & (bowler_year.team.isin(major_teams))].sort_values('economy_rate').head()"
   ]
  },
  {
   "cell_type": "markdown",
   "metadata": {},
   "source": [
    "Most effective - low economy rate and low strike rate"
   ]
  },
  {
   "cell_type": "code",
   "execution_count": 20,
   "metadata": {
    "collapsed": false
   },
   "outputs": [
    {
     "data": {
      "text/html": [
       "<div>\n",
       "<table border=\"1\" class=\"dataframe\">\n",
       "  <thead>\n",
       "    <tr style=\"text-align: right;\">\n",
       "      <th></th>\n",
       "      <th>bowler_name</th>\n",
       "      <th>year</th>\n",
       "      <th>strike_rate</th>\n",
       "      <th>economy_rate</th>\n",
       "      <th>average</th>\n",
       "    </tr>\n",
       "  </thead>\n",
       "  <tbody>\n",
       "    <tr>\n",
       "      <th>761</th>\n",
       "      <td>Ravichandran Ashwin</td>\n",
       "      <td>14-16</td>\n",
       "      <td>11.92</td>\n",
       "      <td>5.41</td>\n",
       "      <td>10.75</td>\n",
       "    </tr>\n",
       "    <tr>\n",
       "      <th>832</th>\n",
       "      <td>Samuel Badree</td>\n",
       "      <td>14-16</td>\n",
       "      <td>14.20</td>\n",
       "      <td>4.92</td>\n",
       "      <td>11.65</td>\n",
       "    </tr>\n",
       "    <tr>\n",
       "      <th>227</th>\n",
       "      <td>David Wiese</td>\n",
       "      <td>14-16</td>\n",
       "      <td>11.38</td>\n",
       "      <td>6.30</td>\n",
       "      <td>11.95</td>\n",
       "    </tr>\n",
       "    <tr>\n",
       "      <th>494</th>\n",
       "      <td>Krishmar Santokie</td>\n",
       "      <td>14-16</td>\n",
       "      <td>11.88</td>\n",
       "      <td>6.24</td>\n",
       "      <td>12.35</td>\n",
       "    </tr>\n",
       "    <tr>\n",
       "      <th>512</th>\n",
       "      <td>Lasith Malinga</td>\n",
       "      <td>14-16</td>\n",
       "      <td>12.52</td>\n",
       "      <td>6.15</td>\n",
       "      <td>12.84</td>\n",
       "    </tr>\n",
       "  </tbody>\n",
       "</table>\n",
       "</div>"
      ],
      "text/plain": [
       "             bowler_name   year  strike_rate  economy_rate  average\n",
       "761  Ravichandran Ashwin  14-16        11.92          5.41    10.75\n",
       "832        Samuel Badree  14-16        14.20          4.92    11.65\n",
       "227          David Wiese  14-16        11.38          6.30    11.95\n",
       "494    Krishmar Santokie  14-16        11.88          6.24    12.35\n",
       "512       Lasith Malinga  14-16        12.52          6.15    12.84"
      ]
     },
     "execution_count": 20,
     "metadata": {},
     "output_type": "execute_result"
    }
   ],
   "source": [
    "bowler_year[(bowler_year.balls_bowled >= 100) & (bowler_year.team.isin(major_teams))\n",
    "           & (bowler_year.economy_rate <= 6.5) & (bowler_year.strike_rate <= 16) & (bowler_year.year =='14-16')][\n",
    "    ['bowler_name', 'year', 'strike_rate', 'economy_rate', 'average']].sort_values('average', ascending=1).head()"
   ]
  },
  {
   "cell_type": "markdown",
   "metadata": {},
   "source": [
    "Stop runs but don't take wickets"
   ]
  },
  {
   "cell_type": "code",
   "execution_count": 21,
   "metadata": {
    "collapsed": false
   },
   "outputs": [
    {
     "data": {
      "text/html": [
       "<div>\n",
       "<table border=\"1\" class=\"dataframe\">\n",
       "  <thead>\n",
       "    <tr style=\"text-align: right;\">\n",
       "      <th></th>\n",
       "      <th>bowler_name</th>\n",
       "      <th>year</th>\n",
       "      <th>strike_rate</th>\n",
       "      <th>economy_rate</th>\n",
       "      <th>average</th>\n",
       "    </tr>\n",
       "  </thead>\n",
       "  <tbody>\n",
       "    <tr>\n",
       "      <th>943</th>\n",
       "      <td>Sunil Narine</td>\n",
       "      <td>14-16</td>\n",
       "      <td>20.59</td>\n",
       "      <td>5.07</td>\n",
       "      <td>17.41</td>\n",
       "    </tr>\n",
       "    <tr>\n",
       "      <th>652</th>\n",
       "      <td>Mustafizur Rahman</td>\n",
       "      <td>14-16</td>\n",
       "      <td>19.00</td>\n",
       "      <td>5.08</td>\n",
       "      <td>16.08</td>\n",
       "    </tr>\n",
       "    <tr>\n",
       "      <th>124</th>\n",
       "      <td>Bhuvneshwar Kumar</td>\n",
       "      <td>14-16</td>\n",
       "      <td>25.78</td>\n",
       "      <td>5.12</td>\n",
       "      <td>22.00</td>\n",
       "    </tr>\n",
       "    <tr>\n",
       "      <th>341</th>\n",
       "      <td>Hardik Pandya</td>\n",
       "      <td>14-16</td>\n",
       "      <td>18.10</td>\n",
       "      <td>5.50</td>\n",
       "      <td>16.60</td>\n",
       "    </tr>\n",
       "    <tr>\n",
       "      <th>86</th>\n",
       "      <td>Angelo Mathews</td>\n",
       "      <td>14-16</td>\n",
       "      <td>24.44</td>\n",
       "      <td>5.89</td>\n",
       "      <td>24.00</td>\n",
       "    </tr>\n",
       "  </tbody>\n",
       "</table>\n",
       "</div>"
      ],
      "text/plain": [
       "           bowler_name   year  strike_rate  economy_rate  average\n",
       "943       Sunil Narine  14-16        20.59          5.07    17.41\n",
       "652  Mustafizur Rahman  14-16        19.00          5.08    16.08\n",
       "124  Bhuvneshwar Kumar  14-16        25.78          5.12    22.00\n",
       "341      Hardik Pandya  14-16        18.10          5.50    16.60\n",
       "86      Angelo Mathews  14-16        24.44          5.89    24.00"
      ]
     },
     "execution_count": 21,
     "metadata": {},
     "output_type": "execute_result"
    }
   ],
   "source": [
    "bowler_year[(bowler_year.balls_bowled >= 100) & (bowler_year.team.isin(major_teams))\n",
    "           & (bowler_year.economy_rate <= 6.5) & (bowler_year.strike_rate > 16) & (bowler_year.year =='14-16')][\n",
    "    ['bowler_name', 'year', 'strike_rate', 'economy_rate', 'average']].sort_values('economy_rate', ascending=1).head()"
   ]
  },
  {
   "cell_type": "markdown",
   "metadata": {},
   "source": [
    "Wicket taking but expensive"
   ]
  },
  {
   "cell_type": "code",
   "execution_count": 22,
   "metadata": {
    "collapsed": false
   },
   "outputs": [
    {
     "data": {
      "text/html": [
       "<div>\n",
       "<table border=\"1\" class=\"dataframe\">\n",
       "  <thead>\n",
       "    <tr style=\"text-align: right;\">\n",
       "      <th></th>\n",
       "      <th>bowler_name</th>\n",
       "      <th>year</th>\n",
       "      <th>strike_rate</th>\n",
       "      <th>economy_rate</th>\n",
       "      <th>average</th>\n",
       "    </tr>\n",
       "  </thead>\n",
       "  <tbody>\n",
       "    <tr>\n",
       "      <th>228</th>\n",
       "      <td>David Willey</td>\n",
       "      <td>14-16</td>\n",
       "      <td>8.67</td>\n",
       "      <td>8.31</td>\n",
       "      <td>12.00</td>\n",
       "    </tr>\n",
       "    <tr>\n",
       "      <th>49</th>\n",
       "      <td>Al-Amin Hossain</td>\n",
       "      <td>14-16</td>\n",
       "      <td>11.17</td>\n",
       "      <td>6.56</td>\n",
       "      <td>12.20</td>\n",
       "    </tr>\n",
       "    <tr>\n",
       "      <th>669</th>\n",
       "      <td>Nathan Coulter-Nile</td>\n",
       "      <td>14-16</td>\n",
       "      <td>12.81</td>\n",
       "      <td>6.64</td>\n",
       "      <td>14.19</td>\n",
       "    </tr>\n",
       "    <tr>\n",
       "      <th>202</th>\n",
       "      <td>Dale Steyn</td>\n",
       "      <td>14-16</td>\n",
       "      <td>12.20</td>\n",
       "      <td>7.18</td>\n",
       "      <td>14.60</td>\n",
       "    </tr>\n",
       "    <tr>\n",
       "      <th>122</th>\n",
       "      <td>Beuran Hendricks</td>\n",
       "      <td>14-16</td>\n",
       "      <td>13.38</td>\n",
       "      <td>7.96</td>\n",
       "      <td>17.75</td>\n",
       "    </tr>\n",
       "  </tbody>\n",
       "</table>\n",
       "</div>"
      ],
      "text/plain": [
       "             bowler_name   year  strike_rate  economy_rate  average\n",
       "228         David Willey  14-16         8.67          8.31    12.00\n",
       "49       Al-Amin Hossain  14-16        11.17          6.56    12.20\n",
       "669  Nathan Coulter-Nile  14-16        12.81          6.64    14.19\n",
       "202           Dale Steyn  14-16        12.20          7.18    14.60\n",
       "122     Beuran Hendricks  14-16        13.38          7.96    17.75"
      ]
     },
     "execution_count": 22,
     "metadata": {},
     "output_type": "execute_result"
    }
   ],
   "source": [
    "bowler_year[(bowler_year.balls_bowled >= 100) & (bowler_year.team.isin(major_teams))\n",
    "           & (bowler_year.economy_rate > 6.5) & (bowler_year.strike_rate <= 16) & (bowler_year.year =='14-16')][\n",
    "    ['bowler_name', 'year', 'strike_rate', 'economy_rate', 'average']].sort_values('average', ascending=1).head()"
   ]
  },
  {
   "cell_type": "markdown",
   "metadata": {},
   "source": [
    "Expensive and non-wicket taking"
   ]
  },
  {
   "cell_type": "code",
   "execution_count": 23,
   "metadata": {
    "collapsed": false
   },
   "outputs": [
    {
     "data": {
      "text/html": [
       "<div>\n",
       "<table border=\"1\" class=\"dataframe\">\n",
       "  <thead>\n",
       "    <tr style=\"text-align: right;\">\n",
       "      <th></th>\n",
       "      <th>bowler_name</th>\n",
       "      <th>year</th>\n",
       "      <th>strike_rate</th>\n",
       "      <th>economy_rate</th>\n",
       "      <th>average</th>\n",
       "    </tr>\n",
       "  </thead>\n",
       "  <tbody>\n",
       "    <tr>\n",
       "      <th>403</th>\n",
       "      <td>James Tredwell</td>\n",
       "      <td>14-16</td>\n",
       "      <td>52.50</td>\n",
       "      <td>7.14</td>\n",
       "      <td>62.5</td>\n",
       "    </tr>\n",
       "    <tr>\n",
       "      <th>413</th>\n",
       "      <td>Jean-Paul Duminy</td>\n",
       "      <td>14-16</td>\n",
       "      <td>36.60</td>\n",
       "      <td>7.64</td>\n",
       "      <td>46.6</td>\n",
       "    </tr>\n",
       "    <tr>\n",
       "      <th>983</th>\n",
       "      <td>Tim Bresnan</td>\n",
       "      <td>14-16</td>\n",
       "      <td>35.60</td>\n",
       "      <td>9.13</td>\n",
       "      <td>54.2</td>\n",
       "    </tr>\n",
       "    <tr>\n",
       "      <th>386</th>\n",
       "      <td>Jade Dernbach</td>\n",
       "      <td>14-16</td>\n",
       "      <td>28.14</td>\n",
       "      <td>10.02</td>\n",
       "      <td>47.0</td>\n",
       "    </tr>\n",
       "    <tr>\n",
       "      <th>631</th>\n",
       "      <td>Mohit Sharma</td>\n",
       "      <td>14-16</td>\n",
       "      <td>27.80</td>\n",
       "      <td>7.94</td>\n",
       "      <td>36.8</td>\n",
       "    </tr>\n",
       "  </tbody>\n",
       "</table>\n",
       "</div>"
      ],
      "text/plain": [
       "          bowler_name   year  strike_rate  economy_rate  average\n",
       "403    James Tredwell  14-16        52.50          7.14     62.5\n",
       "413  Jean-Paul Duminy  14-16        36.60          7.64     46.6\n",
       "983       Tim Bresnan  14-16        35.60          9.13     54.2\n",
       "386     Jade Dernbach  14-16        28.14         10.02     47.0\n",
       "631      Mohit Sharma  14-16        27.80          7.94     36.8"
      ]
     },
     "execution_count": 23,
     "metadata": {},
     "output_type": "execute_result"
    }
   ],
   "source": [
    "bowler_year[(bowler_year.balls_bowled >= 100) & (bowler_year.team.isin(major_teams))\n",
    "           & (bowler_year.economy_rate > 6.5) & (bowler_year.strike_rate > 16) & (bowler_year.year =='14-16')][\n",
    "    ['bowler_name', 'year', 'strike_rate', 'economy_rate', 'average']].sort_values('strike_rate', ascending=0).head()"
   ]
  },
  {
   "cell_type": "markdown",
   "metadata": {},
   "source": [
    "### Best teams for chasing under pressure"
   ]
  },
  {
   "cell_type": "markdown",
   "metadata": {},
   "source": [
    "Chasing with the required rate above 9"
   ]
  },
  {
   "cell_type": "code",
   "execution_count": 24,
   "metadata": {
    "collapsed": true
   },
   "outputs": [],
   "source": [
    "chasing_under_pressure_team = all_data[all_data.required_run_rate > 9].groupby('batting_team')[['runs_w_extras', 'balls', 'wicket']].agg('sum')\n",
    "chasing_under_pressure_team['run_rate'] = 6.*chasing_under_pressure_team['runs_w_extras']/chasing_under_pressure_team['balls']\n",
    "chasing_under_pressure_team['average'] = 1.*chasing_under_pressure_team['runs_w_extras']/chasing_under_pressure_team['wicket']"
   ]
  },
  {
   "cell_type": "code",
   "execution_count": 25,
   "metadata": {
    "collapsed": false
   },
   "outputs": [
    {
     "data": {
      "text/html": [
       "<div>\n",
       "<table border=\"1\" class=\"dataframe\">\n",
       "  <thead>\n",
       "    <tr style=\"text-align: right;\">\n",
       "      <th></th>\n",
       "      <th>runs_w_extras</th>\n",
       "      <th>balls</th>\n",
       "      <th>wicket</th>\n",
       "      <th>run_rate</th>\n",
       "      <th>average</th>\n",
       "    </tr>\n",
       "    <tr>\n",
       "      <th>batting_team</th>\n",
       "      <th></th>\n",
       "      <th></th>\n",
       "      <th></th>\n",
       "      <th></th>\n",
       "      <th></th>\n",
       "    </tr>\n",
       "  </thead>\n",
       "  <tbody>\n",
       "    <tr>\n",
       "      <th>India</th>\n",
       "      <td>1615</td>\n",
       "      <td>1190</td>\n",
       "      <td>68</td>\n",
       "      <td>8.14</td>\n",
       "      <td>23.75</td>\n",
       "    </tr>\n",
       "    <tr>\n",
       "      <th>England</th>\n",
       "      <td>3074</td>\n",
       "      <td>2301</td>\n",
       "      <td>140</td>\n",
       "      <td>8.02</td>\n",
       "      <td>21.96</td>\n",
       "    </tr>\n",
       "    <tr>\n",
       "      <th>Australia</th>\n",
       "      <td>2533</td>\n",
       "      <td>1964</td>\n",
       "      <td>147</td>\n",
       "      <td>7.74</td>\n",
       "      <td>17.23</td>\n",
       "    </tr>\n",
       "    <tr>\n",
       "      <th>South Africa</th>\n",
       "      <td>1940</td>\n",
       "      <td>1540</td>\n",
       "      <td>101</td>\n",
       "      <td>7.56</td>\n",
       "      <td>19.21</td>\n",
       "    </tr>\n",
       "    <tr>\n",
       "      <th>West Indies</th>\n",
       "      <td>2205</td>\n",
       "      <td>1792</td>\n",
       "      <td>115</td>\n",
       "      <td>7.38</td>\n",
       "      <td>19.17</td>\n",
       "    </tr>\n",
       "  </tbody>\n",
       "</table>\n",
       "</div>"
      ],
      "text/plain": [
       "              runs_w_extras  balls  wicket  run_rate  average\n",
       "batting_team                                                 \n",
       "India                  1615   1190      68      8.14    23.75\n",
       "England                3074   2301     140      8.02    21.96\n",
       "Australia              2533   1964     147      7.74    17.23\n",
       "South Africa           1940   1540     101      7.56    19.21\n",
       "West Indies            2205   1792     115      7.38    19.17"
      ]
     },
     "execution_count": 25,
     "metadata": {},
     "output_type": "execute_result"
    }
   ],
   "source": [
    "chasing_under_pressure_team.sort_values('run_rate', ascending=False).head()"
   ]
  },
  {
   "cell_type": "markdown",
   "metadata": {},
   "source": [
    "### Best batsman for chasing under pressure"
   ]
  },
  {
   "cell_type": "markdown",
   "metadata": {},
   "source": [
    "Strike rate while chasing with the required rate above 9"
   ]
  },
  {
   "cell_type": "code",
   "execution_count": 26,
   "metadata": {
    "collapsed": false
   },
   "outputs": [],
   "source": [
    "chasing_under_pressure = all_data[all_data.required_run_rate > 9].groupby('batsman_name')[['runs_batter', 'balls', 'wicket']].agg('sum')\n",
    "chasing_under_pressure['strike_rate'] = 1.*chasing_under_pressure['runs_batter']/chasing_under_pressure['balls']\n",
    "chasing_under_pressure['average'] = 1.*chasing_under_pressure['runs_batter']/chasing_under_pressure['wicket']"
   ]
  },
  {
   "cell_type": "code",
   "execution_count": 27,
   "metadata": {
    "collapsed": false
   },
   "outputs": [
    {
     "data": {
      "text/html": [
       "<div>\n",
       "<table border=\"1\" class=\"dataframe\">\n",
       "  <thead>\n",
       "    <tr style=\"text-align: right;\">\n",
       "      <th></th>\n",
       "      <th>runs_batter</th>\n",
       "      <th>balls</th>\n",
       "      <th>wicket</th>\n",
       "      <th>strike_rate</th>\n",
       "      <th>average</th>\n",
       "    </tr>\n",
       "    <tr>\n",
       "      <th>batsman_name</th>\n",
       "      <th></th>\n",
       "      <th></th>\n",
       "      <th></th>\n",
       "      <th></th>\n",
       "      <th></th>\n",
       "    </tr>\n",
       "  </thead>\n",
       "  <tbody>\n",
       "    <tr>\n",
       "      <th>MS Dhoni</th>\n",
       "      <td>220</td>\n",
       "      <td>181</td>\n",
       "      <td>3</td>\n",
       "      <td>1.22</td>\n",
       "      <td>73.33</td>\n",
       "    </tr>\n",
       "    <tr>\n",
       "      <th>Virat Kohli</th>\n",
       "      <td>122</td>\n",
       "      <td>93</td>\n",
       "      <td>2</td>\n",
       "      <td>1.31</td>\n",
       "      <td>61.00</td>\n",
       "    </tr>\n",
       "    <tr>\n",
       "      <th>Virender Sehwag</th>\n",
       "      <td>107</td>\n",
       "      <td>64</td>\n",
       "      <td>2</td>\n",
       "      <td>1.67</td>\n",
       "      <td>53.50</td>\n",
       "    </tr>\n",
       "    <tr>\n",
       "      <th>Matt Machan</th>\n",
       "      <td>106</td>\n",
       "      <td>76</td>\n",
       "      <td>2</td>\n",
       "      <td>1.39</td>\n",
       "      <td>53.00</td>\n",
       "    </tr>\n",
       "    <tr>\n",
       "      <th>Alex Hales</th>\n",
       "      <td>420</td>\n",
       "      <td>299</td>\n",
       "      <td>9</td>\n",
       "      <td>1.40</td>\n",
       "      <td>46.67</td>\n",
       "    </tr>\n",
       "  </tbody>\n",
       "</table>\n",
       "</div>"
      ],
      "text/plain": [
       "                 runs_batter  balls  wicket  strike_rate  average\n",
       "batsman_name                                                     \n",
       "MS Dhoni                 220    181       3         1.22    73.33\n",
       "Virat Kohli              122     93       2         1.31    61.00\n",
       "Virender Sehwag          107     64       2         1.67    53.50\n",
       "Matt Machan              106     76       2         1.39    53.00\n",
       "Alex Hales               420    299       9         1.40    46.67"
      ]
     },
     "execution_count": 27,
     "metadata": {},
     "output_type": "execute_result"
    }
   ],
   "source": [
    "chasing_under_pressure[chasing_under_pressure.balls > 60].sort_values('average', ascending=False).head()"
   ]
  },
  {
   "cell_type": "markdown",
   "metadata": {},
   "source": [
    "### Team performance by innings"
   ]
  },
  {
   "cell_type": "code",
   "execution_count": 28,
   "metadata": {
    "collapsed": false
   },
   "outputs": [],
   "source": [
    "first_inning_team = team_innings[team_innings.inning == 1].groupby('batting_team')[\n",
    "    ['win', 'runs_scored', 'num_out', 'balls_faced', 'num_fours', 'num_sixes', 'num_dots']].agg('sum')\\\n",
    "    .join(team_innings[team_innings.inning == 1].groupby('batting_team')['date'].count())\n",
    "first_inning_team.columns = first_inning_team.columns.tolist()[:-1] + ['total_matches']\n",
    "first_inning_team['average'] = 1.*first_inning_team['runs_scored']/first_inning_team['num_out']\n",
    "first_inning_team['run_rate'] = 6.*first_inning_team['runs_scored']/first_inning_team['balls_faced']\n",
    "first_inning_team['balls_per_six'] = 1.*first_inning_team['balls_faced']/first_inning_team['num_sixes']\n",
    "first_inning_team['balls_per_boundary'] = 1.*first_inning_team['balls_faced']/first_inning_team['num_fours']\n",
    "first_inning_team['win_rate'] = 1.*first_inning_team['win']/first_inning_team['total_matches']"
   ]
  },
  {
   "cell_type": "code",
   "execution_count": 29,
   "metadata": {
    "collapsed": true
   },
   "outputs": [],
   "source": [
    "second_inning_team = team_innings[team_innings.inning == 2].groupby('batting_team')[\n",
    "    ['win', 'runs_scored', 'num_out', 'balls_faced', 'num_fours', 'num_sixes', 'num_dots']].agg('sum')\\\n",
    "    .join(team_innings[team_innings.inning == 2].groupby('batting_team')['date'].count())\n",
    "second_inning_team.columns = second_inning_team.columns.tolist()[:-1] + ['total_matches']\n",
    "second_inning_team['average'] = 1.*second_inning_team['runs_scored']/second_inning_team['num_out']\n",
    "second_inning_team['run_rate'] = 6.*second_inning_team['runs_scored']/second_inning_team['balls_faced']\n",
    "second_inning_team['balls_per_six'] = 1.*second_inning_team['balls_faced']/second_inning_team['num_sixes']\n",
    "second_inning_team['balls_per_boundary'] = 1.*second_inning_team['balls_faced']/second_inning_team['num_fours']\n",
    "second_inning_team['win_rate'] = 1.*second_inning_team['win']/second_inning_team['total_matches']"
   ]
  },
  {
   "cell_type": "code",
   "execution_count": 30,
   "metadata": {
    "collapsed": false
   },
   "outputs": [
    {
     "data": {
      "text/html": [
       "<div>\n",
       "<table border=\"1\" class=\"dataframe\">\n",
       "  <thead>\n",
       "    <tr style=\"text-align: right;\">\n",
       "      <th></th>\n",
       "      <th>win</th>\n",
       "      <th>runs_scored</th>\n",
       "      <th>num_out</th>\n",
       "      <th>balls_faced</th>\n",
       "      <th>num_fours</th>\n",
       "      <th>num_sixes</th>\n",
       "      <th>num_dots</th>\n",
       "      <th>total_matches</th>\n",
       "      <th>average</th>\n",
       "      <th>run_rate</th>\n",
       "      <th>balls_per_six</th>\n",
       "      <th>balls_per_boundary</th>\n",
       "      <th>win_rate</th>\n",
       "    </tr>\n",
       "    <tr>\n",
       "      <th>batting_team</th>\n",
       "      <th></th>\n",
       "      <th></th>\n",
       "      <th></th>\n",
       "      <th></th>\n",
       "      <th></th>\n",
       "      <th></th>\n",
       "      <th></th>\n",
       "      <th></th>\n",
       "      <th></th>\n",
       "      <th></th>\n",
       "      <th></th>\n",
       "      <th></th>\n",
       "      <th></th>\n",
       "    </tr>\n",
       "  </thead>\n",
       "  <tbody>\n",
       "    <tr>\n",
       "      <th>Afghanistan</th>\n",
       "      <td>15</td>\n",
       "      <td>3371</td>\n",
       "      <td>147</td>\n",
       "      <td>2617</td>\n",
       "      <td>233</td>\n",
       "      <td>148</td>\n",
       "      <td>1137</td>\n",
       "      <td>22</td>\n",
       "      <td>22.93</td>\n",
       "      <td>7.73</td>\n",
       "      <td>17.68</td>\n",
       "      <td>11.23</td>\n",
       "      <td>0.68</td>\n",
       "    </tr>\n",
       "    <tr>\n",
       "      <th>Pakistan</th>\n",
       "      <td>34</td>\n",
       "      <td>8050</td>\n",
       "      <td>335</td>\n",
       "      <td>6335</td>\n",
       "      <td>653</td>\n",
       "      <td>233</td>\n",
       "      <td>2711</td>\n",
       "      <td>53</td>\n",
       "      <td>24.03</td>\n",
       "      <td>7.62</td>\n",
       "      <td>27.19</td>\n",
       "      <td>9.70</td>\n",
       "      <td>0.64</td>\n",
       "    </tr>\n",
       "    <tr>\n",
       "      <th>Sri Lanka</th>\n",
       "      <td>28</td>\n",
       "      <td>7084</td>\n",
       "      <td>260</td>\n",
       "      <td>5247</td>\n",
       "      <td>664</td>\n",
       "      <td>176</td>\n",
       "      <td>2200</td>\n",
       "      <td>44</td>\n",
       "      <td>27.25</td>\n",
       "      <td>8.10</td>\n",
       "      <td>29.81</td>\n",
       "      <td>7.90</td>\n",
       "      <td>0.64</td>\n",
       "    </tr>\n",
       "    <tr>\n",
       "      <th>South Africa</th>\n",
       "      <td>28</td>\n",
       "      <td>6904</td>\n",
       "      <td>253</td>\n",
       "      <td>5157</td>\n",
       "      <td>563</td>\n",
       "      <td>229</td>\n",
       "      <td>2060</td>\n",
       "      <td>45</td>\n",
       "      <td>27.29</td>\n",
       "      <td>8.03</td>\n",
       "      <td>22.52</td>\n",
       "      <td>9.16</td>\n",
       "      <td>0.62</td>\n",
       "    </tr>\n",
       "    <tr>\n",
       "      <th>England</th>\n",
       "      <td>23</td>\n",
       "      <td>6001</td>\n",
       "      <td>241</td>\n",
       "      <td>4378</td>\n",
       "      <td>489</td>\n",
       "      <td>211</td>\n",
       "      <td>1741</td>\n",
       "      <td>37</td>\n",
       "      <td>24.90</td>\n",
       "      <td>8.22</td>\n",
       "      <td>20.75</td>\n",
       "      <td>8.95</td>\n",
       "      <td>0.62</td>\n",
       "    </tr>\n",
       "  </tbody>\n",
       "</table>\n",
       "</div>"
      ],
      "text/plain": [
       "              win  runs_scored  num_out  balls_faced  num_fours  num_sixes  \\\n",
       "batting_team                                                                 \n",
       "Afghanistan    15         3371      147         2617        233        148   \n",
       "Pakistan       34         8050      335         6335        653        233   \n",
       "Sri Lanka      28         7084      260         5247        664        176   \n",
       "South Africa   28         6904      253         5157        563        229   \n",
       "England        23         6001      241         4378        489        211   \n",
       "\n",
       "              num_dots  total_matches  average  run_rate  balls_per_six  \\\n",
       "batting_team                                                              \n",
       "Afghanistan       1137             22    22.93      7.73          17.68   \n",
       "Pakistan          2711             53    24.03      7.62          27.19   \n",
       "Sri Lanka         2200             44    27.25      8.10          29.81   \n",
       "South Africa      2060             45    27.29      8.03          22.52   \n",
       "England           1741             37    24.90      8.22          20.75   \n",
       "\n",
       "              balls_per_boundary  win_rate  \n",
       "batting_team                                \n",
       "Afghanistan                11.23      0.68  \n",
       "Pakistan                    9.70      0.64  \n",
       "Sri Lanka                   7.90      0.64  \n",
       "South Africa                9.16      0.62  \n",
       "England                     8.95      0.62  "
      ]
     },
     "execution_count": 30,
     "metadata": {},
     "output_type": "execute_result"
    }
   ],
   "source": [
    "first_inning_team.sort_values('win_rate', ascending=False).head()"
   ]
  },
  {
   "cell_type": "code",
   "execution_count": 31,
   "metadata": {
    "collapsed": false
   },
   "outputs": [
    {
     "data": {
      "text/html": [
       "<div>\n",
       "<table border=\"1\" class=\"dataframe\">\n",
       "  <thead>\n",
       "    <tr style=\"text-align: right;\">\n",
       "      <th></th>\n",
       "      <th>win</th>\n",
       "      <th>runs_scored</th>\n",
       "      <th>num_out</th>\n",
       "      <th>balls_faced</th>\n",
       "      <th>num_fours</th>\n",
       "      <th>num_sixes</th>\n",
       "      <th>num_dots</th>\n",
       "      <th>total_matches</th>\n",
       "      <th>average</th>\n",
       "      <th>run_rate</th>\n",
       "      <th>balls_per_six</th>\n",
       "      <th>balls_per_boundary</th>\n",
       "      <th>win_rate</th>\n",
       "    </tr>\n",
       "    <tr>\n",
       "      <th>batting_team</th>\n",
       "      <th></th>\n",
       "      <th></th>\n",
       "      <th></th>\n",
       "      <th></th>\n",
       "      <th></th>\n",
       "      <th></th>\n",
       "      <th></th>\n",
       "      <th></th>\n",
       "      <th></th>\n",
       "      <th></th>\n",
       "      <th></th>\n",
       "      <th></th>\n",
       "      <th></th>\n",
       "    </tr>\n",
       "  </thead>\n",
       "  <tbody>\n",
       "    <tr>\n",
       "      <th>Netherlands</th>\n",
       "      <td>12</td>\n",
       "      <td>2433</td>\n",
       "      <td>114</td>\n",
       "      <td>1979</td>\n",
       "      <td>195</td>\n",
       "      <td>72</td>\n",
       "      <td>843</td>\n",
       "      <td>18</td>\n",
       "      <td>21.34</td>\n",
       "      <td>7.38</td>\n",
       "      <td>27.49</td>\n",
       "      <td>10.15</td>\n",
       "      <td>0.67</td>\n",
       "    </tr>\n",
       "    <tr>\n",
       "      <th>Papua New Guinea</th>\n",
       "      <td>2</td>\n",
       "      <td>312</td>\n",
       "      <td>19</td>\n",
       "      <td>264</td>\n",
       "      <td>20</td>\n",
       "      <td>14</td>\n",
       "      <td>139</td>\n",
       "      <td>3</td>\n",
       "      <td>16.42</td>\n",
       "      <td>7.09</td>\n",
       "      <td>18.86</td>\n",
       "      <td>13.20</td>\n",
       "      <td>0.67</td>\n",
       "    </tr>\n",
       "    <tr>\n",
       "      <th>India</th>\n",
       "      <td>21</td>\n",
       "      <td>4572</td>\n",
       "      <td>146</td>\n",
       "      <td>3445</td>\n",
       "      <td>398</td>\n",
       "      <td>135</td>\n",
       "      <td>1458</td>\n",
       "      <td>32</td>\n",
       "      <td>31.32</td>\n",
       "      <td>7.96</td>\n",
       "      <td>25.52</td>\n",
       "      <td>8.66</td>\n",
       "      <td>0.66</td>\n",
       "    </tr>\n",
       "    <tr>\n",
       "      <th>South Africa</th>\n",
       "      <td>24</td>\n",
       "      <td>5414</td>\n",
       "      <td>201</td>\n",
       "      <td>4139</td>\n",
       "      <td>464</td>\n",
       "      <td>168</td>\n",
       "      <td>1777</td>\n",
       "      <td>39</td>\n",
       "      <td>26.94</td>\n",
       "      <td>7.85</td>\n",
       "      <td>24.64</td>\n",
       "      <td>8.92</td>\n",
       "      <td>0.62</td>\n",
       "    </tr>\n",
       "    <tr>\n",
       "      <th>Afghanistan</th>\n",
       "      <td>11</td>\n",
       "      <td>2533</td>\n",
       "      <td>112</td>\n",
       "      <td>2022</td>\n",
       "      <td>218</td>\n",
       "      <td>75</td>\n",
       "      <td>912</td>\n",
       "      <td>18</td>\n",
       "      <td>22.62</td>\n",
       "      <td>7.52</td>\n",
       "      <td>26.96</td>\n",
       "      <td>9.28</td>\n",
       "      <td>0.61</td>\n",
       "    </tr>\n",
       "  </tbody>\n",
       "</table>\n",
       "</div>"
      ],
      "text/plain": [
       "                  win  runs_scored  num_out  balls_faced  num_fours  \\\n",
       "batting_team                                                          \n",
       "Netherlands        12         2433      114         1979        195   \n",
       "Papua New Guinea    2          312       19          264         20   \n",
       "India              21         4572      146         3445        398   \n",
       "South Africa       24         5414      201         4139        464   \n",
       "Afghanistan        11         2533      112         2022        218   \n",
       "\n",
       "                  num_sixes  num_dots  total_matches  average  run_rate  \\\n",
       "batting_team                                                              \n",
       "Netherlands              72       843             18    21.34      7.38   \n",
       "Papua New Guinea         14       139              3    16.42      7.09   \n",
       "India                   135      1458             32    31.32      7.96   \n",
       "South Africa            168      1777             39    26.94      7.85   \n",
       "Afghanistan              75       912             18    22.62      7.52   \n",
       "\n",
       "                  balls_per_six  balls_per_boundary  win_rate  \n",
       "batting_team                                                   \n",
       "Netherlands               27.49               10.15      0.67  \n",
       "Papua New Guinea          18.86               13.20      0.67  \n",
       "India                     25.52                8.66      0.66  \n",
       "South Africa              24.64                8.92      0.62  \n",
       "Afghanistan               26.96                9.28      0.61  "
      ]
     },
     "execution_count": 31,
     "metadata": {},
     "output_type": "execute_result"
    }
   ],
   "source": [
    "second_inning_team.sort_values('win_rate', ascending=False).head()"
   ]
  },
  {
   "cell_type": "markdown",
   "metadata": {},
   "source": [
    "### Batsman performance by innings"
   ]
  },
  {
   "cell_type": "code",
   "execution_count": 32,
   "metadata": {
    "collapsed": false
   },
   "outputs": [],
   "source": [
    "first_inning_bat = batsman_innings[batsman_innings.inning == 1].groupby('batsman_name')[\n",
    "    ['runs_scored', 'num_out', 'balls_faced', 'num_fours', 'num_sixes', 'num_dots', 'caught', 'not out',\n",
    "     'leg before wicket', 'bowled', 'hit wicket', 'run out', 'stumped', 'retired not out (hurt)']].agg('sum')\n",
    "first_inning_bat['average'] = 1.*first_inning_bat['runs_scored']/first_inning_bat['num_out']\n",
    "first_inning_bat['strike_rate'] = 100.*first_inning_bat['runs_scored']/first_inning_bat['balls_faced']\n",
    "first_inning_bat['balls_per_six'] = 1.*first_inning_bat['balls_faced']/first_inning_bat['num_sixes']\n",
    "first_inning_bat['balls_per_boundary'] = 1.*first_inning_bat['balls_faced']/first_inning_bat['num_fours']\n",
    "for dismissal in [u'caught', u'not out', u'leg before wicket', u'bowled', u'hit wicket', u'run out', u'stumped',\n",
    "       u'retired not out (hurt)']:\n",
    "    first_inning_bat[dismissal] = 1.*first_inning_bat[dismissal]/first_inning_bat['num_out']"
   ]
  },
  {
   "cell_type": "code",
   "execution_count": 33,
   "metadata": {
    "collapsed": false
   },
   "outputs": [],
   "source": [
    "second_inning_bat = batsman_innings[batsman_innings.inning == 2].groupby('batsman_name')[\n",
    "    ['runs_scored', 'num_out', 'balls_faced', 'num_fours', 'num_sixes', 'num_dots', 'caught', 'not out',\n",
    "     'leg before wicket', 'bowled', 'hit wicket', 'run out', 'stumped', 'retired not out (hurt)']].agg('sum')\n",
    "second_inning_bat['average'] = 1.*second_inning_bat['runs_scored']/second_inning_bat['num_out']\n",
    "second_inning_bat['strike_rate'] = 100.*second_inning_bat['runs_scored']/second_inning_bat['balls_faced']\n",
    "second_inning_bat['balls_per_six'] = 1.*second_inning_bat['balls_faced']/second_inning_bat['num_sixes']\n",
    "second_inning_bat['balls_per_boundary'] = 1.*second_inning_bat['balls_faced']/second_inning_bat['num_fours']\n",
    "for dismissal in [u'caught', u'not out', u'leg before wicket', u'bowled', u'hit wicket', u'run out', u'stumped',\n",
    "       u'retired not out (hurt)']:\n",
    "    second_inning_bat[dismissal] = 1.*second_inning_bat[dismissal]/second_inning_bat['num_out']"
   ]
  },
  {
   "cell_type": "markdown",
   "metadata": {},
   "source": [
    "### Bowler performance by innings"
   ]
  },
  {
   "cell_type": "code",
   "execution_count": null,
   "metadata": {
    "collapsed": true
   },
   "outputs": [],
   "source": []
  },
  {
   "cell_type": "markdown",
   "metadata": {},
   "source": [
    "### Aggregating batsman performances in the first innings and the second innings"
   ]
  },
  {
   "cell_type": "code",
   "execution_count": 34,
   "metadata": {
    "collapsed": false
   },
   "outputs": [],
   "source": [
    "first_inning_bat = all_data[all_data.inning==1].groupby('batsman_name')[['runs_batter', 'balls', 'wicket']].agg('sum')\n",
    "second_inning_bat = all_data[all_data.inning==2].groupby('batsman_name')[['runs_batter', 'balls', 'wicket']].agg('sum')"
   ]
  },
  {
   "cell_type": "code",
   "execution_count": 35,
   "metadata": {
    "collapsed": false
   },
   "outputs": [],
   "source": [
    "first_inning_bat['average'] = 1.*first_inning_bat['runs_batter']/first_inning_bat['wicket']\n",
    "first_inning_bat['strike_rate'] = 100.*first_inning_bat['runs_batter']/first_inning_bat['balls']"
   ]
  },
  {
   "cell_type": "code",
   "execution_count": 36,
   "metadata": {
    "collapsed": true
   },
   "outputs": [],
   "source": [
    "second_inning_bat['average'] = 1.*second_inning_bat['runs_batter']/second_inning_bat['wicket']\n",
    "second_inning_bat['strike_rate'] = 100.*second_inning_bat['runs_batter']/second_inning_bat['balls']"
   ]
  },
  {
   "cell_type": "code",
   "execution_count": 37,
   "metadata": {
    "collapsed": false
   },
   "outputs": [
    {
     "data": {
      "text/html": [
       "<div>\n",
       "<table border=\"1\" class=\"dataframe\">\n",
       "  <thead>\n",
       "    <tr style=\"text-align: right;\">\n",
       "      <th></th>\n",
       "      <th>runs_batter</th>\n",
       "      <th>balls</th>\n",
       "      <th>wicket</th>\n",
       "      <th>average</th>\n",
       "      <th>strike_rate</th>\n",
       "    </tr>\n",
       "    <tr>\n",
       "      <th>batsman_name</th>\n",
       "      <th></th>\n",
       "      <th></th>\n",
       "      <th></th>\n",
       "      <th></th>\n",
       "      <th></th>\n",
       "    </tr>\n",
       "  </thead>\n",
       "  <tbody>\n",
       "    <tr>\n",
       "      <th>Matt Machan</th>\n",
       "      <td>224</td>\n",
       "      <td>190</td>\n",
       "      <td>3</td>\n",
       "      <td>74.67</td>\n",
       "      <td>117.89</td>\n",
       "    </tr>\n",
       "    <tr>\n",
       "      <th>Aaron Finch</th>\n",
       "      <td>502</td>\n",
       "      <td>288</td>\n",
       "      <td>8</td>\n",
       "      <td>62.75</td>\n",
       "      <td>174.31</td>\n",
       "    </tr>\n",
       "    <tr>\n",
       "      <th>Andrew Symonds</th>\n",
       "      <td>292</td>\n",
       "      <td>173</td>\n",
       "      <td>5</td>\n",
       "      <td>58.40</td>\n",
       "      <td>168.79</td>\n",
       "    </tr>\n",
       "    <tr>\n",
       "      <th>Ed Joyce</th>\n",
       "      <td>160</td>\n",
       "      <td>151</td>\n",
       "      <td>3</td>\n",
       "      <td>53.33</td>\n",
       "      <td>105.96</td>\n",
       "    </tr>\n",
       "    <tr>\n",
       "      <th>Devon Smith</th>\n",
       "      <td>159</td>\n",
       "      <td>133</td>\n",
       "      <td>3</td>\n",
       "      <td>53.00</td>\n",
       "      <td>119.55</td>\n",
       "    </tr>\n",
       "  </tbody>\n",
       "</table>\n",
       "</div>"
      ],
      "text/plain": [
       "                runs_batter  balls  wicket  average  strike_rate\n",
       "batsman_name                                                    \n",
       "Matt Machan             224    190       3    74.67       117.89\n",
       "Aaron Finch             502    288       8    62.75       174.31\n",
       "Andrew Symonds          292    173       5    58.40       168.79\n",
       "Ed Joyce                160    151       3    53.33       105.96\n",
       "Devon Smith             159    133       3    53.00       119.55"
      ]
     },
     "execution_count": 37,
     "metadata": {},
     "output_type": "execute_result"
    }
   ],
   "source": [
    "first_inning_bat[first_inning_bat.balls > 100].sort_values('average', ascending=False).head()"
   ]
  },
  {
   "cell_type": "code",
   "execution_count": 38,
   "metadata": {
    "collapsed": false
   },
   "outputs": [
    {
     "data": {
      "text/html": [
       "<div>\n",
       "<table border=\"1\" class=\"dataframe\">\n",
       "  <thead>\n",
       "    <tr style=\"text-align: right;\">\n",
       "      <th></th>\n",
       "      <th>runs_batter</th>\n",
       "      <th>balls</th>\n",
       "      <th>wicket</th>\n",
       "      <th>average</th>\n",
       "      <th>strike_rate</th>\n",
       "    </tr>\n",
       "    <tr>\n",
       "      <th>batsman_name</th>\n",
       "      <th></th>\n",
       "      <th></th>\n",
       "      <th></th>\n",
       "      <th></th>\n",
       "      <th></th>\n",
       "    </tr>\n",
       "  </thead>\n",
       "  <tbody>\n",
       "    <tr>\n",
       "      <th>Matthew Hayden</th>\n",
       "      <td>266</td>\n",
       "      <td>183</td>\n",
       "      <td>2</td>\n",
       "      <td>133.00</td>\n",
       "      <td>145.36</td>\n",
       "    </tr>\n",
       "    <tr>\n",
       "      <th>Virat Kohli</th>\n",
       "      <td>717</td>\n",
       "      <td>564</td>\n",
       "      <td>9</td>\n",
       "      <td>79.67</td>\n",
       "      <td>127.13</td>\n",
       "    </tr>\n",
       "    <tr>\n",
       "      <th>David Obuya</th>\n",
       "      <td>153</td>\n",
       "      <td>151</td>\n",
       "      <td>2</td>\n",
       "      <td>76.50</td>\n",
       "      <td>101.32</td>\n",
       "    </tr>\n",
       "    <tr>\n",
       "      <th>Ashish Bagai</th>\n",
       "      <td>131</td>\n",
       "      <td>120</td>\n",
       "      <td>2</td>\n",
       "      <td>65.50</td>\n",
       "      <td>109.17</td>\n",
       "    </tr>\n",
       "    <tr>\n",
       "      <th>Richard Levi</th>\n",
       "      <td>176</td>\n",
       "      <td>115</td>\n",
       "      <td>3</td>\n",
       "      <td>58.67</td>\n",
       "      <td>153.04</td>\n",
       "    </tr>\n",
       "  </tbody>\n",
       "</table>\n",
       "</div>"
      ],
      "text/plain": [
       "                runs_batter  balls  wicket  average  strike_rate\n",
       "batsman_name                                                    \n",
       "Matthew Hayden          266    183       2   133.00       145.36\n",
       "Virat Kohli             717    564       9    79.67       127.13\n",
       "David Obuya             153    151       2    76.50       101.32\n",
       "Ashish Bagai            131    120       2    65.50       109.17\n",
       "Richard Levi            176    115       3    58.67       153.04"
      ]
     },
     "execution_count": 38,
     "metadata": {},
     "output_type": "execute_result"
    }
   ],
   "source": [
    "second_inning_bat[second_inning_bat.balls > 100].sort_values('average', ascending=False).head()"
   ]
  },
  {
   "cell_type": "markdown",
   "metadata": {},
   "source": [
    "### Aggregating batting performance in the first innings by over"
   ]
  },
  {
   "cell_type": "code",
   "execution_count": 39,
   "metadata": {
    "collapsed": false
   },
   "outputs": [],
   "source": [
    "first_inning_first_6 = all_data[(all_data.inning==1) & (all_data.ovr_range == 'first_6')].groupby('batsman_name')[['runs_batter', 'balls', 'wicket']].agg('sum')\n",
    "first_inning_middle_9 = all_data[(all_data.inning==1) & (all_data.ovr_range == 'middle_9')].groupby('batsman_name')[['runs_batter', 'balls', 'wicket']].agg('sum')\n",
    "first_inning_last_5 = all_data[(all_data.inning==1) & (all_data.ovr_range == 'last_5')].groupby('batsman_name')[['runs_batter', 'balls', 'wicket']].agg('sum')"
   ]
  },
  {
   "cell_type": "code",
   "execution_count": 40,
   "metadata": {
    "collapsed": true
   },
   "outputs": [],
   "source": [
    "for i in [first_inning_first_6, first_inning_middle_9, first_inning_last_5]:\n",
    "    i['strike_rate'] = 100.*i['runs_batter']/i['balls']\n",
    "    i['average'] = 1.*i['runs_batter']/i['wicket']"
   ]
  },
  {
   "cell_type": "code",
   "execution_count": 41,
   "metadata": {
    "collapsed": false
   },
   "outputs": [
    {
     "data": {
      "text/html": [
       "<div>\n",
       "<table border=\"1\" class=\"dataframe\">\n",
       "  <thead>\n",
       "    <tr style=\"text-align: right;\">\n",
       "      <th></th>\n",
       "      <th>runs_batter</th>\n",
       "      <th>balls</th>\n",
       "      <th>wicket</th>\n",
       "      <th>strike_rate</th>\n",
       "      <th>average</th>\n",
       "    </tr>\n",
       "    <tr>\n",
       "      <th>batsman_name</th>\n",
       "      <th></th>\n",
       "      <th></th>\n",
       "      <th></th>\n",
       "      <th></th>\n",
       "      <th></th>\n",
       "    </tr>\n",
       "  </thead>\n",
       "  <tbody>\n",
       "    <tr>\n",
       "      <th>Aaron Finch</th>\n",
       "      <td>235</td>\n",
       "      <td>138</td>\n",
       "      <td>3</td>\n",
       "      <td>170.29</td>\n",
       "      <td>78.33</td>\n",
       "    </tr>\n",
       "    <tr>\n",
       "      <th>Joe Root</th>\n",
       "      <td>100</td>\n",
       "      <td>62</td>\n",
       "      <td>1</td>\n",
       "      <td>161.29</td>\n",
       "      <td>100.00</td>\n",
       "    </tr>\n",
       "    <tr>\n",
       "      <th>Anton Devcich</th>\n",
       "      <td>101</td>\n",
       "      <td>67</td>\n",
       "      <td>1</td>\n",
       "      <td>150.75</td>\n",
       "      <td>101.00</td>\n",
       "    </tr>\n",
       "    <tr>\n",
       "      <th>Kevin Pietersen</th>\n",
       "      <td>246</td>\n",
       "      <td>168</td>\n",
       "      <td>2</td>\n",
       "      <td>146.43</td>\n",
       "      <td>123.00</td>\n",
       "    </tr>\n",
       "    <tr>\n",
       "      <th>Ryan Watson</th>\n",
       "      <td>89</td>\n",
       "      <td>63</td>\n",
       "      <td>4</td>\n",
       "      <td>141.27</td>\n",
       "      <td>22.25</td>\n",
       "    </tr>\n",
       "  </tbody>\n",
       "</table>\n",
       "</div>"
      ],
      "text/plain": [
       "                 runs_batter  balls  wicket  strike_rate  average\n",
       "batsman_name                                                     \n",
       "Aaron Finch              235    138       3       170.29    78.33\n",
       "Joe Root                 100     62       1       161.29   100.00\n",
       "Anton Devcich            101     67       1       150.75   101.00\n",
       "Kevin Pietersen          246    168       2       146.43   123.00\n",
       "Ryan Watson               89     63       4       141.27    22.25"
      ]
     },
     "execution_count": 41,
     "metadata": {},
     "output_type": "execute_result"
    }
   ],
   "source": [
    "first_inning_first_6[(first_inning_first_6.balls > 60)].sort_values('strike_rate', ascending=False).head()"
   ]
  },
  {
   "cell_type": "code",
   "execution_count": 42,
   "metadata": {
    "collapsed": false
   },
   "outputs": [
    {
     "data": {
      "text/html": [
       "<div>\n",
       "<table border=\"1\" class=\"dataframe\">\n",
       "  <thead>\n",
       "    <tr style=\"text-align: right;\">\n",
       "      <th></th>\n",
       "      <th>runs_batter</th>\n",
       "      <th>balls</th>\n",
       "      <th>wicket</th>\n",
       "      <th>strike_rate</th>\n",
       "      <th>average</th>\n",
       "    </tr>\n",
       "    <tr>\n",
       "      <th>batsman_name</th>\n",
       "      <th></th>\n",
       "      <th></th>\n",
       "      <th></th>\n",
       "      <th></th>\n",
       "      <th></th>\n",
       "    </tr>\n",
       "  </thead>\n",
       "  <tbody>\n",
       "    <tr>\n",
       "      <th>Shane Watson</th>\n",
       "      <td>275</td>\n",
       "      <td>161</td>\n",
       "      <td>7</td>\n",
       "      <td>170.81</td>\n",
       "      <td>39.29</td>\n",
       "    </tr>\n",
       "    <tr>\n",
       "      <th>Malcolm Waller</th>\n",
       "      <td>180</td>\n",
       "      <td>112</td>\n",
       "      <td>2</td>\n",
       "      <td>160.71</td>\n",
       "      <td>90.00</td>\n",
       "    </tr>\n",
       "    <tr>\n",
       "      <th>Chris Gayle</th>\n",
       "      <td>371</td>\n",
       "      <td>249</td>\n",
       "      <td>5</td>\n",
       "      <td>149.00</td>\n",
       "      <td>74.20</td>\n",
       "    </tr>\n",
       "    <tr>\n",
       "      <th>Brendon McCullum</th>\n",
       "      <td>496</td>\n",
       "      <td>336</td>\n",
       "      <td>13</td>\n",
       "      <td>147.62</td>\n",
       "      <td>38.15</td>\n",
       "    </tr>\n",
       "    <tr>\n",
       "      <th>Kevin Pietersen</th>\n",
       "      <td>333</td>\n",
       "      <td>227</td>\n",
       "      <td>12</td>\n",
       "      <td>146.70</td>\n",
       "      <td>27.75</td>\n",
       "    </tr>\n",
       "  </tbody>\n",
       "</table>\n",
       "</div>"
      ],
      "text/plain": [
       "                  runs_batter  balls  wicket  strike_rate  average\n",
       "batsman_name                                                      \n",
       "Shane Watson              275    161       7       170.81    39.29\n",
       "Malcolm Waller            180    112       2       160.71    90.00\n",
       "Chris Gayle               371    249       5       149.00    74.20\n",
       "Brendon McCullum          496    336      13       147.62    38.15\n",
       "Kevin Pietersen           333    227      12       146.70    27.75"
      ]
     },
     "execution_count": 42,
     "metadata": {},
     "output_type": "execute_result"
    }
   ],
   "source": [
    "first_inning_middle_9[(first_inning_middle_9.balls > 100)].sort_values('strike_rate', ascending=False).head()"
   ]
  },
  {
   "cell_type": "code",
   "execution_count": 43,
   "metadata": {
    "collapsed": true
   },
   "outputs": [],
   "source": [
    "team_innings.to_csv('summary_csvs/team_innings.csv', encoding='utf-8')\n",
    "team_year.to_csv('summary_csvs/team_year.csv', encoding='utf-8')\n",
    "team_batting_pos.to_csv('summary_csvs/team_batting_pos.csv', encoding='utf-8')\n",
    "batsman_innings.to_csv('summary_csvs/batsman_innings.csv', encoding='utf-8')\n",
    "batsman_order.to_csv('summary_csvs/batsman_order.csv', encoding='utf-8')\n",
    "batsman_year.to_csv('summary_csvs/batsman_year.csv', encoding='utf-8')\n",
    "chasing_under_pressure_team.to_csv('summary_csvs/chasing_under_pressure_team.csv', encoding='utf-8')\n",
    "first_inning_team.to_csv('summary_csvs/first_inning_team.csv', encoding='utf-8')\n",
    "second_inning_team.to_csv('summary_csvs/second_inning_team.csv', encoding='utf-8')\n",
    "first_inning_bat.to_csv('summary_csvs/first_inning_bat.csv', encoding='utf-8')\n",
    "second_inning_bat.to_csv('summary_csvs/second_inning_bat.csv', encoding='utf-8')\n",
    "first_inning_first_6.to_csv('summary_csvs/first_inning_first_6.csv', encoding='utf-8')\n",
    "first_inning_middle_9.to_csv('summary_csvs/first_inning_middle_9.csv', encoding='utf-8')\n",
    "first_inning_last_5.to_csv('summary_csvs/first_inning_last_5.csv', encoding='utf-8')\n",
    "bowler_spells.to_csv('summary_csvs/bowler_spells.csv', encoding='utf-8')\n",
    "bowler_year.to_csv('summary_csvs/bowler_year.csv', encoding='utf-8')"
   ]
  },
  {
   "cell_type": "code",
   "execution_count": 45,
   "metadata": {
    "collapsed": false
   },
   "outputs": [],
   "source": [
    "team_innings.to_pickle('summary_pickles/team_innings.pkl')\n",
    "team_year.to_pickle('summary_pickles/team_year.pkl')\n",
    "team_batting_pos.to_pickle('summary_pickles/team_batting_pos.pkl')\n",
    "batsman_innings.to_pickle('summary_pickles/batsman_innings.pkl')\n",
    "batsman_order.to_pickle('summary_pickles/batsman_order.pkl')\n",
    "batsman_year.to_pickle('summary_pickles/batsman_year.pkl')\n",
    "chasing_under_pressure_team.to_pickle('summary_pickles/chasing_under_pressure_team.pkl')\n",
    "first_inning_team.to_pickle('summary_pickles/first_inning_team.pkl')\n",
    "second_inning_team.to_pickle('summary_pickles/second_inning_team.pkl')\n",
    "first_inning_bat.to_pickle('summary_pickles/first_inning_bat.pkl')\n",
    "second_inning_bat.to_pickle('summary_pickles/second_inning_bat.pkl')\n",
    "first_inning_first_6.to_pickle('summary_pickles/first_inning_first_6.pkl')\n",
    "first_inning_middle_9.to_pickle('summary_pickles/first_inning_middle_9.pkl')\n",
    "first_inning_last_5.to_pickle('summary_pickles/first_inning_last_5.pkl')"
   ]
  },
  {
   "cell_type": "code",
   "execution_count": null,
   "metadata": {
    "collapsed": true
   },
   "outputs": [],
   "source": []
  }
 ],
 "metadata": {
  "kernelspec": {
   "display_name": "Python 2",
   "language": "python",
   "name": "python2"
  },
  "language_info": {
   "codemirror_mode": {
    "name": "ipython",
    "version": 2
   },
   "file_extension": ".py",
   "mimetype": "text/x-python",
   "name": "python",
   "nbconvert_exporter": "python",
   "pygments_lexer": "ipython2",
   "version": "2.7.10"
  }
 },
 "nbformat": 4,
 "nbformat_minor": 0
}
